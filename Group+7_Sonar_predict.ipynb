{
 "cells": [
  {
   "cell_type": "markdown",
   "id": "1ad6ffd4-4aa4-407c-a1e1-50d864846cf0",
   "metadata": {
    "tags": []
   },
   "source": [
    "![AlternativeLogo-eng.png](data:image/png;base64,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)"
   ]
  },
  {
   "cell_type": "markdown",
   "id": "a02346a9-ef61-4339-b276-b82a8a9a57d4",
   "metadata": {},
   "source": [
    "## Artificial Neural Network Implementation with Matrix Data structure  \n",
    "(using numpy module)  "
   ]
  },
  {
   "cell_type": "markdown",
   "id": "7611fa1e-1b21-4cfc-898a-cd79a05b4614",
   "metadata": {},
   "source": [
    "Reference:  \n",
    "https://www.analyticsvidhya.com/blog/2020/07/neural-networks-from-scratch-in-python-and-r/"
   ]
  },
  {
   "cell_type": "markdown",
   "id": "772ff317-a845-41fb-8501-3dc2a2d2edf6",
   "metadata": {},
   "source": [
    "### ขั้นตอนที่ 1: รู้จักข้อมูล Data set  \n",
    "ในขั้นตอนนี้คือ กระบวนการโหลด data set เข้าสู่โปรแกรมของเรา โดยมาก data set จะอยู่ในไฟล์ .csv ดังนั้นเราต้องเปิดไฟล์ .csv แล้วทำการ โหลดข้อมูลมาเก็บไว้ก่อน\n",
    "เราสามารถเรียกใช้ moduleอื่นๆ  เข้ามาช่วยจัดการได้เช่น csv  หรือ pandas  \n",
    "**import csv** หรือ **import pandas as pd**  \n",
    "ในที่นี่จะใช้ csv module เพื่อดึงข้อมูลเข้ามาใส่ใน array ของ numpy module"
   ]
  },
  {
   "cell_type": "code",
   "execution_count": 1,
   "id": "3f7adef1-817e-4430-a670-8527a4fd93b7",
   "metadata": {},
   "outputs": [
    {
     "name": "stdout",
     "output_type": "stream",
     "text": [
      "Example of rawdata[  0]: ['0.0200' '0.0371' '0.0428' '0.0207' '0.0954' '0.0986' '0.1539' '0.1601'\n",
      " '0.3109' '0.2111' '0.1609' '0.1582' '0.2238' '0.0645' '0.0660' '0.2273'\n",
      " '0.3100' '0.2999' '0.5078' '0.4797' '0.5783' '0.5071' '0.4328' '0.5550'\n",
      " '0.6711' '0.6415' '0.7104' '0.8080' '0.6791' '0.3857' '0.1307' '0.2604'\n",
      " '0.5121' '0.7547' '0.8537' '0.8507' '0.6692' '0.6097' '0.4943' '0.2744'\n",
      " '0.0510' '0.2834' '0.2825' '0.4256' '0.2641' '0.1386' '0.1051' '0.1343'\n",
      " '0.0383' '0.0324' '0.0232' '0.0027' '0.0065' '0.0159' '0.0072' '0.0167'\n",
      " '0.0180' '0.0084' '0.0090' '0.0032' 'R']\n",
      "Example of rawdata[  1]: ['0.0453' '0.0523' '0.0843' '0.0689' '0.1183' '0.2583' '0.2156' '0.3481'\n",
      " '0.3337' '0.2872' '0.4918' '0.6552' '0.6919' '0.7797' '0.7464' '0.9444'\n",
      " '1.0000' '0.8874' '0.8024' '0.7818' '0.5212' '0.4052' '0.3957' '0.3914'\n",
      " '0.3250' '0.3200' '0.3271' '0.2767' '0.4423' '0.2028' '0.3788' '0.2947'\n",
      " '0.1984' '0.2341' '0.1306' '0.4182' '0.3835' '0.1057' '0.1840' '0.1970'\n",
      " '0.1674' '0.0583' '0.1401' '0.1628' '0.0621' '0.0203' '0.0530' '0.0742'\n",
      " '0.0409' '0.0061' '0.0125' '0.0084' '0.0089' '0.0048' '0.0094' '0.0191'\n",
      " '0.0140' '0.0049' '0.0052' '0.0044' 'R']\n",
      "         :           :                    :  \n",
      "Example of rawdata[206]: ['0.0303' '0.0353' '0.0490' '0.0608' '0.0167' '0.1354' '0.1465' '0.1123'\n",
      " '0.1945' '0.2354' '0.2898' '0.2812' '0.1578' '0.0273' '0.0673' '0.1444'\n",
      " '0.2070' '0.2645' '0.2828' '0.4293' '0.5685' '0.6990' '0.7246' '0.7622'\n",
      " '0.9242' '1.0000' '0.9979' '0.8297' '0.7032' '0.7141' '0.6893' '0.4961'\n",
      " '0.2584' '0.0969' '0.0776' '0.0364' '0.1572' '0.1823' '0.1349' '0.0849'\n",
      " '0.0492' '0.1367' '0.1552' '0.1548' '0.1319' '0.0985' '0.1258' '0.0954'\n",
      " '0.0489' '0.0241' '0.0042' '0.0086' '0.0046' '0.0126' '0.0036' '0.0035'\n",
      " '0.0034' '0.0079' '0.0036' '0.0048' 'M']\n",
      "Example of rawdata[207]: ['0.0260' '0.0363' '0.0136' '0.0272' '0.0214' '0.0338' '0.0655' '0.1400'\n",
      " '0.1843' '0.2354' '0.2720' '0.2442' '0.1665' '0.0336' '0.1302' '0.1708'\n",
      " '0.2177' '0.3175' '0.3714' '0.4552' '0.5700' '0.7397' '0.8062' '0.8837'\n",
      " '0.9432' '1.0000' '0.9375' '0.7603' '0.7123' '0.8358' '0.7622' '0.4567'\n",
      " '0.1715' '0.1549' '0.1641' '0.1869' '0.2655' '0.1713' '0.0959' '0.0768'\n",
      " '0.0847' '0.2076' '0.2505' '0.1862' '0.1439' '0.1470' '0.0991' '0.0041'\n",
      " '0.0154' '0.0116' '0.0181' '0.0146' '0.0129' '0.0047' '0.0039' '0.0061'\n",
      " '0.0040' '0.0036' '0.0061' '0.0115' 'M']\n",
      "Number of rawdata: 208\n"
     ]
    }
   ],
   "source": [
    "import csv\n",
    "import numpy as np\n",
    "\n",
    "with open('sonar.all-data.csv') as Data_file:\n",
    "    Data_list = csv.reader(Data_file)\n",
    "    Data = [Data for Data in Data_list]\n",
    "Rawdata_array = np.asarray(Data)\n",
    "\n",
    "#ลองพิมพ์ตัวอย่างของข้อมูลที่โหลดเข้ามาเพื่อการตรวจสอบ\n",
    "print(\"Example of rawdata[{0:3d}]: {1}\".format(0,Rawdata_array[0]))\n",
    "print(\"Example of rawdata[{0:3d}]: {1}\".format(1,Rawdata_array[1]))\n",
    "print(\"         :           :                    :  \")\n",
    "print(\"Example of rawdata[{0:3d}]: {1}\".format(len(Rawdata_array)-2,Rawdata_array[-2]))\n",
    "print(\"Example of rawdata[{0:3d}]: {1}\".format(len(Rawdata_array)-1,Rawdata_array[-1]))\n",
    "print(\"Number of rawdata:\", len(Rawdata_array))"
   ]
  },
  {
   "cell_type": "code",
   "execution_count": 2,
   "id": "d6fea9b3-bbd6-4fc1-9884-b30038fe466a",
   "metadata": {},
   "outputs": [
    {
     "data": {
      "text/plain": [
       "(208, 61)"
      ]
     },
     "execution_count": 2,
     "metadata": {},
     "output_type": "execute_result"
    }
   ],
   "source": [
    "# เช็คขนาดของ raw data\n",
    "Rawdata_array.shape"
   ]
  },
  {
   "cell_type": "markdown",
   "id": "2d81b9bb-0243-4b2c-8eee-1d9f4244f4aa",
   "metadata": {},
   "source": [
    "### Dataset Explanation \n",
    "ข้อมูลชุดนี้เป็นการสำรวจวัตถุที่อยู่ใต้ทะเล ประกอบด้วย 208 records 61 features   \n",
    "โดย 60 features เเรก เเสดงถึงคลื่นความถี่ที่ได้รับจากการใช้ sonar\n",
    "ส่วน feature ที่ 61 เป็นการ label ว่าวัตถุชิ้นดังกล่าว เป็นวัสดุชนิดใด ดังนี้ \n",
    "\n",
    "* R : ก้อนหิน\n",
    "* M : เเร่โลหะ\n",
    "\n"
   ]
  },
  {
   "cell_type": "markdown",
   "id": "7a9d6db8-53d3-4c6b-ac8d-6507db985914",
   "metadata": {},
   "source": [
    "ในตอนแรกข้อมูลที่เป็น feature และ target จะถูกโหลดมารวมกันอยู่ใน array เดียวกัน จึงต้องแยกข้อมูลออกเป็นส่วนที่เป็น input's feature และ เป็น output's target"
   ]
  },
  {
   "cell_type": "code",
   "execution_count": 3,
   "id": "9face3e0-ebde-4e5b-a5d0-6b80e0bd2733",
   "metadata": {},
   "outputs": [
    {
     "name": "stdout",
     "output_type": "stream",
     "text": [
      "Example of Input[  0]: [0.02   0.0371 0.0428 0.0207 0.0954 0.0986 0.1539 0.1601 0.3109 0.2111\n",
      " 0.1609 0.1582 0.2238 0.0645 0.066  0.2273 0.31   0.2999 0.5078 0.4797\n",
      " 0.5783 0.5071 0.4328 0.555  0.6711 0.6415 0.7104 0.808  0.6791 0.3857\n",
      " 0.1307 0.2604 0.5121 0.7547 0.8537 0.8507 0.6692 0.6097 0.4943 0.2744\n",
      " 0.051  0.2834 0.2825 0.4256 0.2641 0.1386 0.1051 0.1343 0.0383 0.0324\n",
      " 0.0232 0.0027 0.0065 0.0159 0.0072 0.0167 0.018  0.0084 0.009  0.0032]\n",
      "Example of Input[  1]: [0.0453 0.0523 0.0843 0.0689 0.1183 0.2583 0.2156 0.3481 0.3337 0.2872\n",
      " 0.4918 0.6552 0.6919 0.7797 0.7464 0.9444 1.     0.8874 0.8024 0.7818\n",
      " 0.5212 0.4052 0.3957 0.3914 0.325  0.32   0.3271 0.2767 0.4423 0.2028\n",
      " 0.3788 0.2947 0.1984 0.2341 0.1306 0.4182 0.3835 0.1057 0.184  0.197\n",
      " 0.1674 0.0583 0.1401 0.1628 0.0621 0.0203 0.053  0.0742 0.0409 0.0061\n",
      " 0.0125 0.0084 0.0089 0.0048 0.0094 0.0191 0.014  0.0049 0.0052 0.0044]\n",
      "         :         :              :  \n",
      "Example of Input[206]: [0.0303 0.0353 0.049  0.0608 0.0167 0.1354 0.1465 0.1123 0.1945 0.2354\n",
      " 0.2898 0.2812 0.1578 0.0273 0.0673 0.1444 0.207  0.2645 0.2828 0.4293\n",
      " 0.5685 0.699  0.7246 0.7622 0.9242 1.     0.9979 0.8297 0.7032 0.7141\n",
      " 0.6893 0.4961 0.2584 0.0969 0.0776 0.0364 0.1572 0.1823 0.1349 0.0849\n",
      " 0.0492 0.1367 0.1552 0.1548 0.1319 0.0985 0.1258 0.0954 0.0489 0.0241\n",
      " 0.0042 0.0086 0.0046 0.0126 0.0036 0.0035 0.0034 0.0079 0.0036 0.0048]\n",
      "Example of Input[207]: [0.026  0.0363 0.0136 0.0272 0.0214 0.0338 0.0655 0.14   0.1843 0.2354\n",
      " 0.272  0.2442 0.1665 0.0336 0.1302 0.1708 0.2177 0.3175 0.3714 0.4552\n",
      " 0.57   0.7397 0.8062 0.8837 0.9432 1.     0.9375 0.7603 0.7123 0.8358\n",
      " 0.7622 0.4567 0.1715 0.1549 0.1641 0.1869 0.2655 0.1713 0.0959 0.0768\n",
      " 0.0847 0.2076 0.2505 0.1862 0.1439 0.147  0.0991 0.0041 0.0154 0.0116\n",
      " 0.0181 0.0146 0.0129 0.0047 0.0039 0.0061 0.004  0.0036 0.0061 0.0115]\n",
      "Shape of Input:  (208, 60)\n",
      "\n",
      "Example of Target[  0]: R\n",
      "Example of Target[  1]: R\n",
      "         :      :           :  \n",
      "Example of Target[206]: M\n",
      "Example of Target[207]: M\n",
      "Number of Target: 208\n"
     ]
    }
   ],
   "source": [
    "Input_array = np.zeros((len(Rawdata_array),len(Rawdata_array[0])-1),dtype = 'f')\n",
    "Target_list = list()\n",
    "for i in range(len(Rawdata_array)):\n",
    "        Input_array[i] = np.array(Rawdata_array[i][0:len(Rawdata_array[i])-1],dtype = 'f')\n",
    "        Target_list.append(Rawdata_array[i][-1])\n",
    "        \n",
    "#ลองพิมพ์ทั้งส่วนที่เป็น feature และ target เพื่อการตรวจสอบ\n",
    "print(\"Example of Input[{0:3d}]: {1}\".format(0,Input_array[0]))\n",
    "print(\"Example of Input[{0:3d}]: {1}\".format(1,Input_array[1]))\n",
    "print(\"         :         :              :  \")\n",
    "print(\"Example of Input[{0:3d}]: {1}\".format(len(Input_array)-2,Input_array[-2]))\n",
    "print(\"Example of Input[{0:3d}]: {1}\".format(len(Input_array)-1,Input_array[-1]))\n",
    "print(\"Shape of Input: \",Input_array.shape)\n",
    "\n",
    "print(\"\\nExample of Target[{0:3d}]: {1}\".format(0,Target_list[0]))\n",
    "print(\"Example of Target[{0:3d}]: {1}\".format(1,Target_list[1]))\n",
    "print(\"         :      :           :  \")\n",
    "print(\"Example of Target[{0:3d}]: {1}\".format(len(Target_list)-2,Target_list[-2]))\n",
    "print(\"Example of Target[{0:3d}]: {1}\".format(len(Target_list)-1,Target_list[-1]))\n",
    "print(\"Number of Target:\", len(Target_list))"
   ]
  },
  {
   "cell_type": "markdown",
   "id": "c649ee28-e1a6-40db-b524-874ea2a9845b",
   "metadata": {},
   "source": [
    "___\n",
    "### ขั้นตอนที่2: clean Data  \n",
    "ในขั้นตอนนี้ เมื่อเราไม่แน่ใจว่าข้อมูลที่โหลดเข้ามา มีข้อมูลที่ผิดพลาดหรือไม่ ให้ ทำการ clean data ก่อน โดยในบางครั้ง ข้อมูลอาจจะมีค่าที่ผิดพลาดได้เช่น ค่าเกินกว่าช่วงที่กำหนด หรือ ค่าขาดหายไป (อาจจะถูกบันทึกเป็น 0 หรือ N/A หรือ None) เราสามารถแก้ไขได้โดยวิธีต่าง ๆ เช่น ปรับช่วงให้ใหม่ หรือ เติมข้อมูลที่ขาดหายไป ถ้าหากข้อมูลมีจำนวน observation มาเพียงพอ เราอาจจะตัดข้อมูลใน observation หรือ record นั้นทิ้งไปเลยก็ได้  \n",
    "* สำหรับข้อมูลในส่วนที่เป็น input นอกจากทำการ clean data แล้วยังต้องปรับ data type ให้ถูกต้องก่อน เนื่องจากในการ load มาอาจจะเป็นอยู่ในรูปของ text อยู่\n",
    "* ลองเข็คค่าทางสถิติสำหรับแต่ละ feature ดูว่ามีความเหมาะสมหรือไม่ เช่น ไม่มี feature ใด feature หนึ่งที่มีค่าสูงมากเกินไป และ อาจจะทำการ normalize หรือ standardize แต่ละ feature ให้มีช่วงของค่าและการกระจายตัวที่สมดุลกัน เราเรียกกระบวนการเหล่านี้ว่า Pre-Processing\n",
    "* สำหรับข้อมูลในส่วนที่เป็น output ถ้าหากได้รับข้อมูลที่ label มาเป็น character เช่น Y/N หรือ True/False ให้เปลี่ยนเป็น integer เช่น 0/1   \n",
    "\n",
    "* ถ้าข้อมูลเป็นแบบ multiclass (มีการแบ่งคราสมากกว่า 2 class ขึ้นไป) อาจจะเปลี่ยนจำนวน output ให้เท่ากับจำนวนclass เช่น ปรับให้อยู่ในรูปนี้ class1 = 0 0 1, class2 = 0 1 0, class3 = 1 0 0"
   ]
  },
  {
   "cell_type": "code",
   "execution_count": 4,
   "id": "a57b96ef-57fb-4bef-9a96-22ff62581638",
   "metadata": {},
   "outputs": [
    {
     "name": "stdout",
     "output_type": "stream",
     "text": [
      "Shape of Cleaned Input: (208, 60)\n"
     ]
    }
   ],
   "source": [
    "# หากพบว่ามีข้อมูลที่ว่างเปล่าอยู่จึงทำการลบทิ้ง เช่น\n",
    "# Input_array = np.delete(Input_array,150,0)\n",
    "print(\"Shape of Cleaned Input:\", Input_array.shape)\n",
    "NumData, NumInput = Input_array.shape"
   ]
  },
  {
   "cell_type": "code",
   "execution_count": 5,
   "id": "ae488127-99b0-468b-bbb5-eea556f0313e",
   "metadata": {},
   "outputs": [],
   "source": [
    "#targetอาจจะมาในรูปของ text เลยต้องแปลงให้กลายเป็นตัวเลข หรือ เข็คจำนวนของ class\n",
    "Class = list(set(Target_list)) # set ไม่นับตัวซำ้\n",
    "NumOutput = len(Class)"
   ]
  },
  {
   "cell_type": "code",
   "execution_count": 6,
   "id": "e792c532-018f-4c90-bbf4-0c4970119c23",
   "metadata": {},
   "outputs": [],
   "source": [
    "#ปรับให้อยู่ในรูปนี้ class R = 0, class M = 1\n",
    "Target_array = np.zeros((NumData,1), dtype='i')\n",
    "for i in range(NumData):\n",
    "    if Target_list[i] == \"R\":  \n",
    "        Target_array[i] = 0\n",
    "    else:\n",
    "        Target_array[i] = 1\n",
    "        "
   ]
  },
  {
   "cell_type": "code",
   "execution_count": 7,
   "id": "7d82f452-8b59-420e-ad3c-72308138a66b",
   "metadata": {},
   "outputs": [
    {
     "data": {
      "text/plain": [
       "array([[0],\n",
       "       [0],\n",
       "       [0],\n",
       "       [0],\n",
       "       [0],\n",
       "       [0],\n",
       "       [0],\n",
       "       [0],\n",
       "       [0],\n",
       "       [0],\n",
       "       [0],\n",
       "       [0],\n",
       "       [0],\n",
       "       [0],\n",
       "       [0],\n",
       "       [0],\n",
       "       [0],\n",
       "       [0],\n",
       "       [0],\n",
       "       [0],\n",
       "       [0],\n",
       "       [0],\n",
       "       [0],\n",
       "       [0],\n",
       "       [0],\n",
       "       [0],\n",
       "       [0],\n",
       "       [0],\n",
       "       [0],\n",
       "       [0],\n",
       "       [0],\n",
       "       [0],\n",
       "       [0],\n",
       "       [0],\n",
       "       [0],\n",
       "       [0],\n",
       "       [0],\n",
       "       [0],\n",
       "       [0],\n",
       "       [0],\n",
       "       [0],\n",
       "       [0],\n",
       "       [0],\n",
       "       [0],\n",
       "       [0],\n",
       "       [0],\n",
       "       [0],\n",
       "       [0],\n",
       "       [0],\n",
       "       [0],\n",
       "       [0],\n",
       "       [0],\n",
       "       [0],\n",
       "       [0],\n",
       "       [0],\n",
       "       [0],\n",
       "       [0],\n",
       "       [0],\n",
       "       [0],\n",
       "       [0],\n",
       "       [0],\n",
       "       [0],\n",
       "       [0],\n",
       "       [0],\n",
       "       [0],\n",
       "       [0],\n",
       "       [0],\n",
       "       [0],\n",
       "       [0],\n",
       "       [0],\n",
       "       [0],\n",
       "       [0],\n",
       "       [0],\n",
       "       [0],\n",
       "       [0],\n",
       "       [0],\n",
       "       [0],\n",
       "       [0],\n",
       "       [0],\n",
       "       [0],\n",
       "       [0],\n",
       "       [0],\n",
       "       [0],\n",
       "       [0],\n",
       "       [0],\n",
       "       [0],\n",
       "       [0],\n",
       "       [0],\n",
       "       [0],\n",
       "       [0],\n",
       "       [0],\n",
       "       [0],\n",
       "       [0],\n",
       "       [0],\n",
       "       [0],\n",
       "       [0],\n",
       "       [0],\n",
       "       [1],\n",
       "       [1],\n",
       "       [1],\n",
       "       [1],\n",
       "       [1],\n",
       "       [1],\n",
       "       [1],\n",
       "       [1],\n",
       "       [1],\n",
       "       [1],\n",
       "       [1],\n",
       "       [1],\n",
       "       [1],\n",
       "       [1],\n",
       "       [1],\n",
       "       [1],\n",
       "       [1],\n",
       "       [1],\n",
       "       [1],\n",
       "       [1],\n",
       "       [1],\n",
       "       [1],\n",
       "       [1],\n",
       "       [1],\n",
       "       [1],\n",
       "       [1],\n",
       "       [1],\n",
       "       [1],\n",
       "       [1],\n",
       "       [1],\n",
       "       [1],\n",
       "       [1],\n",
       "       [1],\n",
       "       [1],\n",
       "       [1],\n",
       "       [1],\n",
       "       [1],\n",
       "       [1],\n",
       "       [1],\n",
       "       [1],\n",
       "       [1],\n",
       "       [1],\n",
       "       [1],\n",
       "       [1],\n",
       "       [1],\n",
       "       [1],\n",
       "       [1],\n",
       "       [1],\n",
       "       [1],\n",
       "       [1],\n",
       "       [1],\n",
       "       [1],\n",
       "       [1],\n",
       "       [1],\n",
       "       [1],\n",
       "       [1],\n",
       "       [1],\n",
       "       [1],\n",
       "       [1],\n",
       "       [1],\n",
       "       [1],\n",
       "       [1],\n",
       "       [1],\n",
       "       [1],\n",
       "       [1],\n",
       "       [1],\n",
       "       [1],\n",
       "       [1],\n",
       "       [1],\n",
       "       [1],\n",
       "       [1],\n",
       "       [1],\n",
       "       [1],\n",
       "       [1],\n",
       "       [1],\n",
       "       [1],\n",
       "       [1],\n",
       "       [1],\n",
       "       [1],\n",
       "       [1],\n",
       "       [1],\n",
       "       [1],\n",
       "       [1],\n",
       "       [1],\n",
       "       [1],\n",
       "       [1],\n",
       "       [1],\n",
       "       [1],\n",
       "       [1],\n",
       "       [1],\n",
       "       [1],\n",
       "       [1],\n",
       "       [1],\n",
       "       [1],\n",
       "       [1],\n",
       "       [1],\n",
       "       [1],\n",
       "       [1],\n",
       "       [1],\n",
       "       [1],\n",
       "       [1],\n",
       "       [1],\n",
       "       [1],\n",
       "       [1],\n",
       "       [1],\n",
       "       [1],\n",
       "       [1],\n",
       "       [1],\n",
       "       [1],\n",
       "       [1],\n",
       "       [1]], dtype=int32)"
      ]
     },
     "execution_count": 7,
     "metadata": {},
     "output_type": "execute_result"
    }
   ],
   "source": [
    "Target_array "
   ]
  },
  {
   "cell_type": "code",
   "execution_count": 8,
   "id": "a4655a1f-b7ac-493d-a2c9-1cb76dab3bb8",
   "metadata": {},
   "outputs": [
    {
     "data": {
      "text/plain": [
       "array([[0.02  , 0.0371, 0.0428, ..., 0.0084, 0.009 , 0.0032],\n",
       "       [0.0453, 0.0523, 0.0843, ..., 0.0049, 0.0052, 0.0044],\n",
       "       [0.0262, 0.0582, 0.1099, ..., 0.0164, 0.0095, 0.0078],\n",
       "       ...,\n",
       "       [0.0522, 0.0437, 0.018 , ..., 0.0138, 0.0077, 0.0031],\n",
       "       [0.0303, 0.0353, 0.049 , ..., 0.0079, 0.0036, 0.0048],\n",
       "       [0.026 , 0.0363, 0.0136, ..., 0.0036, 0.0061, 0.0115]],\n",
       "      dtype=float32)"
      ]
     },
     "execution_count": 8,
     "metadata": {},
     "output_type": "execute_result"
    }
   ],
   "source": [
    "Input_array"
   ]
  },
  {
   "cell_type": "code",
   "execution_count": 9,
   "id": "905598fe-a252-45b1-b38a-a7f6001d8c76",
   "metadata": {},
   "outputs": [
    {
     "data": {
      "image/png": "[encoded data removed]",
      "text/plain": [
       "<Figure size 1080x648 with 1 Axes>"
      ]
     },
     "metadata": {
      "needs_background": "light"
     },
     "output_type": "display_data"
    }
   ],
   "source": [
    "import matplotlib.pyplot as plt\n",
    "fig = plt.figure(figsize =(15, 9))\n",
    "plt.boxplot(Input_array)\n",
    "plt.title('Boxplots of all frequency bins')\n",
    "plt.xlabel('Frequency bin')\n",
    "plt.ylabel('Power spectral density (normalized)')\n",
    "plt.show()"
   ]
  },
  {
   "cell_type": "markdown",
   "id": "e804cd46-2dbe-4962-9374-fa918e75fd00",
   "metadata": {},
   "source": [
    "**ลักษณะ box plot เปรียบเทียบกับรูปเเบบการกระจายตัวของข้อมูล**"
   ]
  },
  {
   "cell_type": "markdown",
   "id": "d69a36af-dd9c-4482-9a14-89f870cc8f90",
   "metadata": {},
   "source": [
    "![image](bloxplots_skewed.jpg)"
   ]
  },
  {
   "cell_type": "markdown",
   "id": "1bd078ff-df0d-4b3c-846f-fbec48c2a54f",
   "metadata": {},
   "source": [
    "##  Standardize Data\n",
    "**เหตุผลที่เลือกการ Standardize** <br>\n",
    "* ข้อมูลทั้งหมดอยู่ในช่วง 0.0-1.0 อยู่เเล้วจึงไม่จำเป็นต้อง Normalize\n",
    "* จากการดูภาพรวมข้อมูล boxplot จะเห็นว่าข้อมูลเเต่ละ feature ส่วนใหญ่จะเป็นการกระจายตัวเเบบ Normal distribution ซึ่งตรงกับความเข้าใจจากการหาข้อมูลที่ว่า                                  \"ข้อมูล Normal distribution เหมาะกับการ Standardize \"\n",
    "\n",
    "\n",
    "\n",
    "**resource:** \n",
    "* https://medium.com/data-espresso/scale-or-standardize-or-normalize-ef905613f275\n",
    "* https://benalexkeen.com/feature-scaling-with-scikit-learn/\n",
    "* https://www.statology.org/standardization-vs-normalization/#:~:text=A%20normalized%20dataset%20will%20always,the%20maximum%20and%20minimum%20values.\n",
    "* https://towardsai.net/p/data-science/how-when-and-why-should-you-normalize-standardize-rescale-your-data-3f083def38ff#:~:text=Standardization%20is%20useful%20when%20your,regression%2C%20and%20linear%20discriminant%20analysis.\n"
   ]
  },
  {
   "cell_type": "markdown",
   "id": "3934df3f-7ec5-48de-bf16-9f0a9e6e3744",
   "metadata": {},
   "source": [
    "![image](standardScaler.png)"
   ]
  },
  {
   "cell_type": "code",
   "execution_count": 10,
   "id": "e932253e-3292-4e85-9e7d-0880bfc7516e",
   "metadata": {},
   "outputs": [],
   "source": [
    "# mean and std BEFORE Standardize\n",
    "old_mean = Input_array.mean()\n",
    "old_std = Input_array.std()\n",
    "\n",
    "# Standard Scaler\n",
    "for i in range(NumData):\n",
    "    for j in range(NumInput):\n",
    "        Input_array[i][j] = (Input_array[i][j] - Input_array.mean())/ Input_array.std()\n",
    "    \n"
   ]
  },
  {
   "cell_type": "code",
   "execution_count": 11,
   "id": "5ca836ff-7a07-4874-aea4-3c6c07813f5a",
   "metadata": {},
   "outputs": [
    {
     "data": {
      "text/plain": [
       "array([[-0.924096  , -0.86276037, -0.84183705, ..., -0.9402258 ,\n",
       "        -0.93725187, -0.956394  ],\n",
       "       [-0.81013644, -0.7853111 , -0.6743275 , ..., -0.9251078 ,\n",
       "        -0.9232634 , -0.92513406],\n",
       "       [-0.8508234 , -0.7423153 , -0.5676746 , ..., -0.86539155,\n",
       "        -0.88746303, -0.8923357 ],\n",
       "       ...,\n",
       "       [-0.17159615, -0.18592198, -0.22929992, ..., -0.23556402,\n",
       "        -0.24582   , -0.2535438 ],\n",
       "       [-0.20760879, -0.19913726, -0.17598683, ..., -0.24452709,\n",
       "        -0.25173816, -0.24967666],\n",
       "       [-0.21390034, -0.19650204, -0.23473376, ..., -0.25083455,\n",
       "        -0.24658594, -0.2374539 ]], dtype=float32)"
      ]
     },
     "execution_count": 11,
     "metadata": {},
     "output_type": "execute_result"
    }
   ],
   "source": [
    "# Standardized Input Data \n",
    "Input_array"
   ]
  },
  {
   "cell_type": "code",
   "execution_count": 12,
   "id": "568ed61d-1f70-4492-adc8-a52fb37889a4",
   "metadata": {},
   "outputs": [
    {
     "name": "stdout",
     "output_type": "stream",
     "text": [
      " OLD Mean :  0.2813213\n",
      " OLD STD :  0.28278586\n",
      "-------------------------------\n",
      " NEW Mean :  0.15247831\n",
      " NEW STD :  0.5938011\n"
     ]
    }
   ],
   "source": [
    "# จากความเข้าใจว่าหลังจากที่ทำการ standardize จะเป็นการพยายามทำให้ค่า mean = 0 เเละ std = 1\n",
    "print(\" OLD Mean : \", old_mean)\n",
    "print(\" OLD STD : \", old_std)\n",
    "print(\"-------------------------------\")\n",
    "print(\" NEW Mean : \", Input_array.mean())\n",
    "print(\" NEW STD : \", Input_array.std())"
   ]
  },
  {
   "cell_type": "markdown",
   "id": "aa1283de-30f9-45dc-bfdf-516914e04223",
   "metadata": {},
   "source": [
    "---\n",
    "### ขั้นตอนที่3: แบ่งข้อมูลออกเป็น trian set และ test set   \n",
    "เรามีความจำเป็นต้องแบ่งข้อมูลออกเป็น2 ส่วนคือ train set คือ ข้อมูลที่เอาไว้สำหรับ train model ANN และ test set สำหรับทดสอบหาความแม่นยำของ model   \n",
    "ในขั้นนี้ สามารถใช้ เทคนิค k-fold cross validation ได้ โดยแบ่งข้อมูลออกเป็น k ชุด ให้ k-1 ชุดแรก เป็น train set และทีเหลืออีกหนึ่งเป็น test set   \n",
    "และสลับการทดลอง train และ test ทดสอบความแม่นยำ กันทั้งหมด k รอบ โดยให้ข้อมูลทุกชุดได้เป็น train set และ ได้เป็น test set อย่างน้อย 1 ครั้ง   \n",
    "\n",
    "ในทางโปรแกรม เราสามารถใช้ slicing เพื่อช่วยให้ง่ายขึ้นได้\n",
    "\n",
    "โดยพยายามแบ่งจำนวน class ใน train set ให้เท่า ๆ กันทุก class เพื่อไม่ให้ model ของเราเกิดการ bias ไปยัง class ใด class หนึ่งขึ้น  "
   ]
  },
  {
   "cell_type": "code",
   "execution_count": 13,
   "id": "a7c08e48-5c04-4f52-86d9-c88fd0dd442f",
   "metadata": {},
   "outputs": [
    {
     "name": "stdout",
     "output_type": "stream",
     "text": [
      "Number of Train data:  187\n",
      "Number of Test data:  21\n"
     ]
    }
   ],
   "source": [
    "# แบ่งข้อมูลเป็น 10 fold-crossvalidation\n",
    "# เพราะฉะนั้น train set = 187 ตัว  และ test set = 21 ตัว\n",
    "# เราจะทำการ train และ test ทั้งหมด 10 รอบ แล้วหาค่าเฉลี่ยความแม่นยำ\n",
    "# รอบแรก (round 1) จะใช้ข้อมูล fold 1-9 เป็น train set และ ใช้ fold 10 เป็น test set\n",
    "\n",
    "\n",
    "Input_Train = np.zeros((187,60),dtype='f')\n",
    "Input_Test = np.zeros((21,60),dtype='f')\n",
    "Target_Train = np.zeros((187,1),dtype='i')\n",
    "Target_Test = np.zeros((21,1),dtype='i')\n",
    "\n",
    "NumTest = 0\n",
    "NumTrain = 0\n",
    "\n",
    "# ไล่ไปทีละเซต \n",
    "# class ต้องเท่าๆกันให้ทุกตัวมีโอกาสเป็นทั้ง train test\n",
    "for i in range(NumData):\n",
    "     # การกำหนด test set โดยใช้ค่า index\n",
    "     # ในการทดสอบรอบต่อไปให้มาเปลี่ยนเลขเศษที่เหลือจากการหาร\n",
    "     # เพื่อให้ทุกตัวมีโอกาสเป็นทั้ง train เเละ test เท่าๆกัน\n",
    "\n",
    "    if (i%10) == 0:\n",
    "        \n",
    "        Input_Test[NumTest] = Input_array[i]\n",
    "        Target_Test[NumTest] = Target_array[i]\n",
    "        NumTest += 1\n",
    "        \n",
    "    else:\n",
    "        \n",
    "        Input_Train[NumTrain] = Input_array[i]\n",
    "        Target_Train[NumTrain] = Target_array[i]\n",
    "        NumTrain += 1\n",
    "print('Number of Train data: ',NumTrain)\n",
    "print('Number of Test data: ',NumTest)"
   ]
  },
  {
   "cell_type": "code",
   "execution_count": 14,
   "id": "561a60a4-f711-4a5a-85a3-f11e2b26a481",
   "metadata": {},
   "outputs": [
    {
     "name": "stdout",
     "output_type": "stream",
     "text": [
      "Input train size :  (187, 60)\n",
      "Input test size :  (21, 60)\n"
     ]
    }
   ],
   "source": [
    "print(\"Input train size : \", Input_Train.shape)\n",
    "print(\"Input test size : \",Input_Test.shape)"
   ]
  },
  {
   "cell_type": "code",
   "execution_count": 15,
   "id": "6920e776-528f-4157-9d3f-9795296b8dac",
   "metadata": {},
   "outputs": [
    {
     "name": "stdout",
     "output_type": "stream",
     "text": [
      "Output train size :  (187, 1)\n",
      "Output test size :  (21, 1)\n"
     ]
    }
   ],
   "source": [
    "print(\"Output train size : \", Target_Train.shape)\n",
    "print(\"Output test size : \", Target_Test.shape)"
   ]
  },
  {
   "cell_type": "code",
   "execution_count": 16,
   "id": "27db3518-6ad9-4d95-8026-74f921963151",
   "metadata": {},
   "outputs": [],
   "source": [
    "np.random.seed(14)"
   ]
  },
  {
   "cell_type": "code",
   "execution_count": 17,
   "id": "e950aafe-5006-4169-a4c7-c8cf2d6cc8b8",
   "metadata": {},
   "outputs": [
    {
     "data": {
      "text/plain": [
       "array([[0],\n",
       "       [0],\n",
       "       [0],\n",
       "       [0],\n",
       "       [0],\n",
       "       [0],\n",
       "       [0],\n",
       "       [0],\n",
       "       [0],\n",
       "       [0],\n",
       "       [1],\n",
       "       [1],\n",
       "       [1],\n",
       "       [1],\n",
       "       [1],\n",
       "       [1],\n",
       "       [1],\n",
       "       [1],\n",
       "       [1],\n",
       "       [1],\n",
       "       [1]], dtype=int32)"
      ]
     },
     "execution_count": 17,
     "metadata": {},
     "output_type": "execute_result"
    }
   ],
   "source": [
    "Target_Test"
   ]
  },
  {
   "cell_type": "code",
   "execution_count": 18,
   "id": "39f6c742-fe7c-4ed7-a4ae-ebadc3f06e15",
   "metadata": {},
   "outputs": [
    {
     "data": {
      "text/plain": [
       "(187, 1)"
      ]
     },
     "execution_count": 18,
     "metadata": {},
     "output_type": "execute_result"
    }
   ],
   "source": [
    "Target_Train.shape"
   ]
  },
  {
   "cell_type": "code",
   "execution_count": 19,
   "id": "59449ff3-427f-4722-9963-34eedb8715b4",
   "metadata": {},
   "outputs": [
    {
     "name": "stdout",
     "output_type": "stream",
     "text": [
      "Input in matrix form:\n",
      " [[-0.81013644 -0.8508234  -0.8843408  ... -0.17159615 -0.20760879\n",
      "  -0.21390034]\n",
      " [-0.7853111  -0.7423153  -0.86021876 ... -0.18592198 -0.19913726\n",
      "  -0.19650204]\n",
      " [-0.6743275  -0.5676746  -0.710679   ... -0.22929992 -0.17598683\n",
      "  -0.23473376]\n",
      " ...\n",
      " [-0.9251078  -0.86539155 -0.8838596  ... -0.23556402 -0.24452709\n",
      "  -0.25083455]\n",
      " [-0.9232634  -0.88746303 -0.8844515  ... -0.24582    -0.25173816\n",
      "  -0.24658594]\n",
      " [-0.92513406 -0.8923357  -0.85880876 ... -0.2535438  -0.24967666\n",
      "  -0.2374539 ]]\n",
      "\n",
      "Shape of Input Matrix: (60, 187)\n"
     ]
    }
   ],
   "source": [
    "# converting the input in matrix form\n",
    "Input = Input_Train.T\n",
    "print(\"Input in matrix form:\\n\", Input)\n",
    "\n",
    "# shape of input matrix\n",
    "print(\"\\nShape of Input Matrix:\", Input.shape)"
   ]
  },
  {
   "cell_type": "code",
   "execution_count": 20,
   "id": "19962d0e-2f66-44c2-9107-045a18bbef7b",
   "metadata": {},
   "outputs": [
    {
     "name": "stdout",
     "output_type": "stream",
     "text": [
      "\n",
      "Target in matrix form:\n",
      " [[0 0 0 0 0 0 0 0 0 0 0 0 0 0 0 0 0 0 0 0 0 0 0 0 0 0 0 0 0 0 0 0 0 0 0 0\n",
      "  0 0 0 0 0 0 0 0 0 0 0 0 0 0 0 0 0 0 0 0 0 0 0 0 0 0 0 0 0 0 0 0 0 0 0 0\n",
      "  0 0 0 0 0 0 0 0 0 0 0 0 0 0 0 1 1 1 1 1 1 1 1 1 1 1 1 1 1 1 1 1 1 1 1 1\n",
      "  1 1 1 1 1 1 1 1 1 1 1 1 1 1 1 1 1 1 1 1 1 1 1 1 1 1 1 1 1 1 1 1 1 1 1 1\n",
      "  1 1 1 1 1 1 1 1 1 1 1 1 1 1 1 1 1 1 1 1 1 1 1 1 1 1 1 1 1 1 1 1 1 1 1 1\n",
      "  1 1 1 1 1 1 1]]\n",
      "\n",
      "Shape of Target: (1, 187)\n"
     ]
    }
   ],
   "source": [
    "# output in matrix form\n",
    "Target = Target_Train.T\n",
    "\n",
    "print(\"\\nTarget in matrix form:\\n\", Target)\n",
    "\n",
    "# shape of input array\n",
    "print(\"\\nShape of Target:\", Target.shape)"
   ]
  },
  {
   "cell_type": "markdown",
   "id": "14e68c9e-2437-4dbb-b96b-0d1d8122a3d4",
   "metadata": {},
   "source": [
    "----\n",
    "### ขั้นตอนที่ 4 กำหนด Hyperparameter ต่าง ๆ ของ Model  \n",
    "กำหนดขนาดของ ANN, Learning rate, Activate function เช่น\n",
    "* จำนวน Input Unit = จำนวน feature \n",
    "* จำนวน Hidden Layer = 1 ขึ้นไป (เริ่มต้นด้วย 1 หรือ 2) \n",
    "* จำนวน Hidden Unit = ประมาณครึ่งหนี่ง หรือ 2/3 ของจำนวน Input Unit  + จำนวน Output Unit\n",
    "* จำนวน Output Unit = จำนวน class (ในกรณีที่เป็น 2 class สามารถลดลงเหลือ 1 unit ได้)  \n",
    "* Learning Rate = ค่าน้อย ๆ เช่น 0.01 หรือ 0.005 \n",
    "* Activate Function เช่น Sigmoid หรือ ReLu  \n",
    "\n",
    "จากขนาดของ ANN และ Input data จะทำให้เกิด\n",
    "1. Input Matrix เป็น Matrix ที่เกิดจากเอา Input Unit vector มาประกอบกัน ทำให้มีขนาดเป็น จำนวนแถวเป็น จำนวน feature และจำนวนคอลัมภ์เป็น จำนวน observation = No.Input unit x No.Observation  \n",
    "2. Hidden Unit vector = No.Hidden unit x 1  ขึ้นกับว่า มี Hidden Layer กี่ layer ถ้ามีมากกว่า 1 ก็จะมี Hidden vector มากกว่า 1 ตัว\n",
    "3. Output Unit vector = No.Output unit x 1\n",
    "4. Weight Matirx เช่น No.Input Unit x  No.Output Unit หรือใน layer ถัด ๆไป"
   ]
  },
  {
   "cell_type": "code",
   "execution_count": 21,
   "id": "19038039-1bdc-42c2-b2f4-02be0f85d374",
   "metadata": {},
   "outputs": [
    {
     "name": "stdout",
     "output_type": "stream",
     "text": [
      "No.Input Unit:  60\n",
      "No.Hidden Layer:  1\n",
      "No.Hidden Unit:  3\n",
      "No.Output Unit:  2\n"
     ]
    }
   ],
   "source": [
    "NumHidden = 3\n",
    "print(\"No.Input Unit: \",NumInput)\n",
    "print(\"No.Hidden Layer: \", 1)\n",
    "print(\"No.Hidden Unit: \",NumHidden)\n",
    "print(\"No.Output Unit: \",NumOutput)"
   ]
  },
  {
   "cell_type": "markdown",
   "id": "ccf44f93-09b9-4cf8-8095-cffc38127b55",
   "metadata": {
    "tags": []
   },
   "source": [
    "---\n",
    "### Hyperparameter\n",
    "**การกำนด Hidden unit = 3** <br>\n",
    "ได้จากการไปค้นคว้าการทดลองด้วย dataset เดียวกัน พบว่า การใช้ Hidden unit = 3 จะทำให้ได้ค่า accuracy สูงสุด ในกรณีที่ ใช้ hidden 1 layer เท่ากัน\n",
    "\n",
    "*reference:https://www.simonwenkel.com/2018/08/23/revisiting_ml_sonar_mines_vs_rocks.html<br>\n",
    "*หมายเหตุ: การทดลองดังกล่าวใช้ activation function เป็น sigmoid เเละ softmax เเบ่งข้อมูลเป็น train 80% test 20% เเละ epoch = 250 \n",
    "---\n",
    "\n",
    "\n"
   ]
  },
  {
   "cell_type": "markdown",
   "id": "e3fd0d12-70fd-437b-bcfb-1390f68bdbd0",
   "metadata": {},
   "source": [
    "**ตัวอย่างผลการทดลองระหว่างจำนวน hidden unit เเละผลต่อค่า accuracy ของ reference**"
   ]
  },
  {
   "cell_type": "markdown",
   "id": "aacc8cfc-2c7e-4d9f-9b9c-205092e546c0",
   "metadata": {},
   "source": [
    "![image](hidden_unit.png)"
   ]
  },
  {
   "cell_type": "markdown",
   "id": "6abf9e73-f767-4350-85cc-a72cb88273fc",
   "metadata": {},
   "source": [
    "**ผลการทดลองระหว่างจำนวน hidden unit เเละผลต่อค่า accuracy ของ model ที่สร้างขึ้น**\n"
   ]
  },
  {
   "cell_type": "markdown",
   "id": "f7f4ac9f-9367-4364-907c-3c1013258c34",
   "metadata": {},
   "source": [
    "| Number of hiden unit (1 hidden layer) |  Accuracy (%)|\n",
    "|  :-: |  :-: | \n",
    "| 1| 52.857 | \n",
    "| 2| 10.476 | \n",
    "| **3**| **83.333** | \n",
    "| 6| 18.095 | \n",
    "| 12| 44.762 | \n",
    "| 24| 50.476 | \n",
    "| 30|66.190  | \n",
    "| 40| 47.620 | \n",
    "| 60| 47.143 | "
   ]
  },
  {
   "cell_type": "markdown",
   "id": "bbe5a4ae-9f5f-4791-bb5d-cf1d76bfdda4",
   "metadata": {},
   "source": [
    "----\n",
    "### ขั้นตอนที่ 5 เริ่มกระบวนการ Train  \n",
    "1. กำหนดค่า weight ใน Weight Matrix เร่ิมต้น โดยการ Random ค่าระหว่าง -0.1 ~ 0.1  \n",
    "2. นำ Input vector จาก Input Matrix เข้าสู่กระบวนการ train ทีละ vector โดยทำการเรียงลำดับด้วยการ random หมายความว่า แต่ละรอบใช้ Label ที่ต่าง ๆกัน\n",
    "3. นำ Input vector มา dot กับ Weight Matrix แล้ว มาผ่าน Activate function เพื่อเป็น Output vector (หรือ Hidden unit vector)\n",
    "   e.g. output = sigmoid(dot(w,input + b)  \n",
    "4. ทำทีละ Layer จนกระทั้งถึง Output layer\n",
    "5. เมื่อได้ Output แล้วนำมาคำนวณ Error เพื่อนำมาเข้าสู่กระบวนการปรับ weight ด้วย Back propragation algorithm"
   ]
  },
  {
   "cell_type": "code",
   "execution_count": 22,
   "id": "edc5435c-72fc-4187-b746-01bd4bbbc32d",
   "metadata": {},
   "outputs": [
    {
     "data": {
      "text/plain": [
       "((60, 3), (3, 2))"
      ]
     },
     "execution_count": 22,
     "metadata": {},
     "output_type": "execute_result"
    }
   ],
   "source": [
    "# กำหนดค่าเริ่มต้นของ weight ในแต่ละส่วน \n",
    "weights_input_hidden = np.random.uniform(low= -0.1, high = 0.1, size=(NumInput, NumHidden))\n",
    "weights_hidden_output = np.random.uniform(low = -0.1, high = 0.1, size=(NumHidden, NumOutput))\n",
    "# shape of weight matrix\n",
    "weights_input_hidden.shape, weights_hidden_output.shape"
   ]
  },
  {
   "cell_type": "code",
   "execution_count": 23,
   "id": "f6150f58-a721-4803-9c18-9bc3c1f14cbe",
   "metadata": {},
   "outputs": [],
   "source": [
    "# กำหนด Acitvate function ที่จะนำมาใช้\n",
    "def sigmoid(x):\n",
    "    return 1 / (1 + np.exp(-x))"
   ]
  },
  {
   "cell_type": "code",
   "execution_count": 24,
   "id": "03b3db6f-5d86-4b42-94a5-e949b98c0885",
   "metadata": {},
   "outputs": [
    {
     "name": "stdout",
     "output_type": "stream",
     "text": [
      "[106 167   9 116 126  50  89  73  78 115 163 133  72 127  65  55 165  20\n",
      "  30  36   5  25  81  47  93 153  49   1  14 108  32  44  84  83  33 114\n",
      "  69  34  41 182  38 147 156 142 118 162 183 112   0   4 180 178 130 176\n",
      " 125  37  58  60 134 152  98  48 159  96 150  92 117 177 138  59 132   2\n",
      " 140 181  45 174 148 135   6  99 111  43  90  13  21  82 102 179  87  19\n",
      "  62  80  77  52  22  42 103  66 157 171  10 173 141 154 175 186 160 107\n",
      "  79 172 129 136 168  85 161 155  70  27 131 164   3 113   7  16  97  12\n",
      " 100 122  39  31  95 110  91 169 124 137 120  11 151  75 105 123  53  67\n",
      " 109  35 104  28 143  17 145 149 144 184  94 139 119  29 146 101  61  40\n",
      "  51  24  86  71  18 158  46  54  26 121  63  56  68 185  15  23 166  74\n",
      "  57  76 170  88  64 128   8]\n"
     ]
    }
   ],
   "source": [
    "# random ลำดับของ input ที่จะถูกป้อนเข้า nerual net เพื่อใช้ในการ train\n",
    "Train_seq = np.random.permutation(NumTrain)\n",
    "print(Train_seq)"
   ]
  },
  {
   "cell_type": "code",
   "execution_count": 25,
   "id": "1feb2914-a8cb-419a-ad37-491d9a913c63",
   "metadata": {},
   "outputs": [
    {
     "data": {
      "text/plain": [
       "187"
      ]
     },
     "execution_count": 25,
     "metadata": {},
     "output_type": "execute_result"
    }
   ],
   "source": [
    "len(Train_seq)"
   ]
  },
  {
   "cell_type": "code",
   "execution_count": 26,
   "id": "ab8149b4-233d-4810-a890-07917595e861",
   "metadata": {},
   "outputs": [
    {
     "name": "stdout",
     "output_type": "stream",
     "text": [
      "[[-0.2766739 ]\n",
      " [-0.25500396]\n",
      " [-0.28878403]\n",
      " [-0.30526745]\n",
      " [-0.07986422]\n",
      " [ 0.0154565 ]\n",
      " [-0.09107983]\n",
      " [-0.04142885]\n",
      " [-0.02448355]\n",
      " [-0.07312978]\n",
      " [ 0.02932844]\n",
      " [ 0.06036309]\n",
      " [ 0.19363183]\n",
      " [ 0.32651585]\n",
      " [ 0.40357426]\n",
      " [ 0.47480062]\n",
      " [ 0.6580293 ]\n",
      " [ 0.8402946 ]\n",
      " [ 0.97009194]\n",
      " [ 1.052686  ]\n",
      " [ 1.2299551 ]\n",
      " [ 1.2790064 ]\n",
      " [ 1.348885  ]\n",
      " [ 1.4271759 ]\n",
      " [ 1.4464406 ]\n",
      " [ 1.5332973 ]\n",
      " [ 1.4479108 ]\n",
      " [ 1.484803  ]\n",
      " [ 1.3375281 ]\n",
      " [ 1.0058546 ]\n",
      " [ 0.6803286 ]\n",
      " [ 0.2475269 ]\n",
      " [ 0.12911661]\n",
      " [ 0.02478959]\n",
      " [ 0.06610307]\n",
      " [-0.05698621]\n",
      " [-0.21121842]\n",
      " [-0.06347879]\n",
      " [-0.01521654]\n",
      " [ 0.08258462]\n",
      " [-0.09642395]\n",
      " [-0.1463063 ]\n",
      " [ 0.02581616]\n",
      " [-0.02688991]\n",
      " [ 0.00860678]\n",
      " [-0.12347566]\n",
      " [-0.19812377]\n",
      " [-0.25137097]\n",
      " [-0.2518826 ]\n",
      " [-0.30774808]\n",
      " [-0.29718202]\n",
      " [-0.32245493]\n",
      " [-0.3083227 ]\n",
      " [-0.33359253]\n",
      " [-0.32583842]\n",
      " [-0.3344073 ]\n",
      " [-0.33134356]\n",
      " [-0.32227743]\n",
      " [-0.32990798]\n",
      " [-0.3373498 ]]\n",
      "(60, 1)\n"
     ]
    }
   ],
   "source": [
    "# เพื่อให้ยังคงเป็น dim = 1 จึงต้อง reshape อีกครั้งแต่ข้อมูลไม่ได้เปลี่ยน\n",
    "print(Input[:,Train_seq[0]].reshape(NumInput,1))\n",
    "print(Input[:,Train_seq[0]].reshape(NumInput,1).shape)"
   ]
  },
  {
   "cell_type": "markdown",
   "id": "af014c82-7509-474a-888d-9143d7c068af",
   "metadata": {},
   "source": [
    "## FeedForward  \n",
    "คือกระบวนการส่ง Information ที่เกิดจากการคำนวณจาก Input Layer ไปยัง Hidden Layer และ ไปยัง Output Layer โดยที่แต่ละ Layer ที่ Neural Node นั้น ๆ ต้องผ่าน Activate function ด้วย   \n",
    "ซึ่งในตัวอย่างนี้จะใช้ sigmoid  เป็น activate function"
   ]
  },
  {
   "cell_type": "markdown",
   "id": "8a618c08-1a13-4be2-9a2f-594ac1bfc920",
   "metadata": {},
   "source": [
    "#### ให้ X  --> input vector และ Y --> target vector\n",
    "#### hidden_layer_input= matrix_dot_product(X,w<sub>h</sub>) + b<sub>h</sub>\n",
    "#### hiddenlayer_activations = sigmoid(hidden_layer_input)"
   ]
  },
  {
   "cell_type": "code",
   "execution_count": 27,
   "id": "6f95b460-e4bb-4861-8c7e-89e797996dff",
   "metadata": {},
   "outputs": [],
   "source": [
    "# at hidden layer\n",
    "# calculate hidden units and activated hidden units\n",
    "Hidden = np.dot(weights_input_hidden.T,Input[:,Train_seq[0]].reshape(NumInput,1))\n",
    "Hidden = sigmoid(Hidden)"
   ]
  },
  {
   "cell_type": "code",
   "execution_count": 28,
   "id": "324c979a-cbc5-4052-8585-7fe85fbd58eb",
   "metadata": {},
   "outputs": [
    {
     "name": "stdout",
     "output_type": "stream",
     "text": [
      "[[0.45058039]\n",
      " [0.48282381]\n",
      " [0.35908497]]\n",
      "(3, 1)\n"
     ]
    }
   ],
   "source": [
    "print(Hidden)\n",
    "print(Hidden.shape)"
   ]
  },
  {
   "cell_type": "markdown",
   "id": "2a1579f8-5bd9-4697-9895-c16a08d2e838",
   "metadata": {},
   "source": [
    "#### output_layer_input = matrix_dot_product (hiddenlayer_activations, w<sub>out</sub> ) + b<sub>out</sub>\n",
    "#### output = sigmoid(output_layer_input)"
   ]
  },
  {
   "cell_type": "code",
   "execution_count": 29,
   "id": "9180a5b1-ac0f-4902-a84c-2f81327b12af",
   "metadata": {},
   "outputs": [],
   "source": [
    "# at output layer\n",
    "# calculate output units and activated output units\n",
    "Output = np.dot(weights_hidden_output.T,Hidden)\n",
    "Output = sigmoid(Output)"
   ]
  },
  {
   "cell_type": "code",
   "execution_count": 30,
   "id": "38ff951e-92d0-4056-8aa8-4a0e0f68e258",
   "metadata": {},
   "outputs": [
    {
     "name": "stdout",
     "output_type": "stream",
     "text": [
      "[[0.51199471]\n",
      " [0.50926637]]\n",
      "(2, 1)\n"
     ]
    }
   ],
   "source": [
    "print(Output)\n",
    "print(Output.shape)"
   ]
  },
  {
   "cell_type": "markdown",
   "id": "d68a5735-1bab-41a6-a3dd-9a1c5afe939b",
   "metadata": {},
   "source": [
    "### ในขั้นตอนถัดไป คือ Backpropagation alogrithm เพื่อเป้าหมายคือการ การปรับค่า weight ให้ ได้ค่า weight ที่เหมาะสมทำให้ได้ค่า output ใกล้เคียงกับ ค่า Target มากที่สุด\n",
    "โดยจะทำงานย้อนกลับไปที่ละ layer จาก output ย้อนกลับไปหา input"
   ]
  },
  {
   "cell_type": "markdown",
   "id": "c891634e-4c5d-4f1f-9184-aed56fb9bacc",
   "metadata": {},
   "source": [
    "#### ตามปรกติ Error = Y – Output\n",
    "#### หรือคิดเป็น Mean Square Error (MSE) --> Error = ((Y - Output)<sup>2</sup>) /2"
   ]
  },
  {
   "cell_type": "code",
   "execution_count": 31,
   "id": "44db769a-11b2-49d3-9739-9952d41aeffa",
   "metadata": {},
   "outputs": [
    {
     "name": "stdout",
     "output_type": "stream",
     "text": [
      "[[0.11907458]\n",
      " [0.12040975]]\n",
      "(2, 1)\n"
     ]
    }
   ],
   "source": [
    "# at output layer \n",
    "# calculating error\n",
    "# เปลี่ยน shape\n",
    "Error = (np.square(Target[:,Train_seq[0]].reshape(1,1) - Output) / 2)\n",
    "print(Error)\n",
    "print(Error.shape)"
   ]
  },
  {
   "cell_type": "code",
   "execution_count": 32,
   "id": "598f568b-73a9-4d1c-9e81-dd45c656bbc1",
   "metadata": {},
   "outputs": [
    {
     "name": "stdout",
     "output_type": "stream",
     "text": [
      "[[-0.48800529]\n",
      " [-0.49073363]]\n",
      "(2, 1)\n"
     ]
    }
   ],
   "source": [
    "# rate of change of error w.r.t. output\n",
    "# dE/dO\n",
    "# เปลี่ยน shape\n",
    "Error_wrt_output = -(Target[:,Train_seq[0]].reshape(1,1) - Output)\n",
    "print(Error_wrt_output)\n",
    "print(Error_wrt_output.shape)"
   ]
  },
  {
   "cell_type": "markdown",
   "id": "a279ae0f-b931-4460-82e4-a5bf3a57525a",
   "metadata": {},
   "source": [
    "![image](back_Output_Hidden_pic.png)"
   ]
  },
  {
   "cell_type": "markdown",
   "id": "5faaf4b1-04ed-42d9-ad23-0838848d7dbc",
   "metadata": {},
   "source": [
    "![image](back_Output_Hidden_equ.png)"
   ]
  },
  {
   "cell_type": "code",
   "execution_count": 33,
   "id": "2a1127f3-cf64-45d7-a1e4-f02d609ca493",
   "metadata": {},
   "outputs": [
    {
     "name": "stdout",
     "output_type": "stream",
     "text": [
      "[[0.24985613]\n",
      " [0.24991413]]\n",
      "(2, 1)\n"
     ]
    }
   ],
   "source": [
    "# rate of change of output w.r.t. Z2\n",
    "# dO/dZ2\n",
    "Output_wrt_outputLayer_LinearTransform = np.multiply(Output, (1 - Output))\n",
    "print(Output_wrt_outputLayer_LinearTransform)\n",
    "print(Output_wrt_outputLayer_LinearTransform.shape)"
   ]
  },
  {
   "cell_type": "code",
   "execution_count": 34,
   "id": "97789aa8-f0c3-440b-97bd-cc1613fa9d08",
   "metadata": {},
   "outputs": [
    {
     "name": "stdout",
     "output_type": "stream",
     "text": [
      "[[0.45058039]\n",
      " [0.48282381]\n",
      " [0.35908497]]\n",
      "(3, 1)\n"
     ]
    }
   ],
   "source": [
    "# rate of change of Z2 w.r.t. weights between hidden and output layer\n",
    "# dZ2/dWho\n",
    "OutputLayer_LinearTransform_wrt_weights_hidden_output = Hidden\n",
    "print(OutputLayer_LinearTransform_wrt_weights_hidden_output)\n",
    "print(OutputLayer_LinearTransform_wrt_weights_hidden_output.shape)"
   ]
  },
  {
   "cell_type": "code",
   "execution_count": 35,
   "id": "7df5181d-ebd9-4355-aa59-18d4de9a60b5",
   "metadata": {},
   "outputs": [
    {
     "name": "stdout",
     "output_type": "stream",
     "text": [
      "[[-0.05493977 -0.05525975]\n",
      " [-0.05887124 -0.05921413]\n",
      " [-0.04378363 -0.04403864]]\n",
      "(3, 2)\n"
     ]
    }
   ],
   "source": [
    "# rate of change of error w.r.t weight between hidden and output layer\n",
    "# dE/dWho \n",
    "Error_wrt_weights_hidden_output = np.dot(OutputLayer_LinearTransform_wrt_weights_hidden_output,\n",
    "    (Error_wrt_output * Output_wrt_outputLayer_LinearTransform).T,)\n",
    "print(Error_wrt_weights_hidden_output)\n",
    "print(Error_wrt_weights_hidden_output.shape)"
   ]
  },
  {
   "cell_type": "markdown",
   "id": "4dc3bbcf-23b6-45c3-bf53-b211a9ba12d2",
   "metadata": {},
   "source": [
    "![image](back_Hidden_Input_pic.png)"
   ]
  },
  {
   "cell_type": "markdown",
   "id": "f7163ef7-aa6a-41d5-ab59-50b8520bc14a",
   "metadata": {},
   "source": [
    "![image](back_Hidden_Input_equ.png)"
   ]
  },
  {
   "cell_type": "code",
   "execution_count": 36,
   "id": "d10f7e18-724d-403b-8de8-8d8235c5c8a4",
   "metadata": {},
   "outputs": [
    {
     "name": "stdout",
     "output_type": "stream",
     "text": [
      "[[-0.48800529]\n",
      " [-0.49073363]]\n",
      "(2, 1)\n"
     ]
    }
   ],
   "source": [
    "# rate of change of error w.r.t. output\n",
    "# change shape\n",
    "Error_wrt_output = -(Target[:,Train_seq[0]].reshape(1,1) - Output)\n",
    "print(Error_wrt_output)\n",
    "print(Error_wrt_output.shape)"
   ]
  },
  {
   "cell_type": "code",
   "execution_count": 37,
   "id": "e60407f1-9ded-4611-93d0-ad4c7757acfc",
   "metadata": {},
   "outputs": [
    {
     "name": "stdout",
     "output_type": "stream",
     "text": [
      "[[0.24985613]\n",
      " [0.24991413]]\n",
      "(2, 1)\n"
     ]
    }
   ],
   "source": [
    "# rate of change of output w.r.t. Z2\n",
    "Output_wrt_outputLayer_LinearTransform = np.multiply(Output, (1 - Output))\n",
    "print(Output_wrt_outputLayer_LinearTransform)\n",
    "print(Output_wrt_outputLayer_LinearTransform.shape)"
   ]
  },
  {
   "cell_type": "code",
   "execution_count": 38,
   "id": "5b7384df-e3ec-47c2-bbd8-9e84599499d9",
   "metadata": {},
   "outputs": [
    {
     "name": "stdout",
     "output_type": "stream",
     "text": [
      "[[ 0.01346368 -0.01742497]\n",
      " [ 0.09068039  0.0193358 ]\n",
      " [-0.00518279  0.09909991]]\n",
      "(3, 2)\n"
     ]
    }
   ],
   "source": [
    "# rate of change of Z2 w.r.t. hidden layer activations\n",
    "OutputLayer_LinearTransform_wrt_hiddenLayer_activations = weights_hidden_output\n",
    "print(OutputLayer_LinearTransform_wrt_hiddenLayer_activations)\n",
    "print(OutputLayer_LinearTransform_wrt_hiddenLayer_activations.shape)"
   ]
  },
  {
   "cell_type": "code",
   "execution_count": 39,
   "id": "27c83041-0057-4386-a27f-52d932c9791a",
   "metadata": {},
   "outputs": [
    {
     "name": "stdout",
     "output_type": "stream",
     "text": [
      "[[0.2475577 ]\n",
      " [0.24970498]\n",
      " [0.23014296]]\n",
      "(3, 1)\n"
     ]
    }
   ],
   "source": [
    "# rate of change of hidden layer activations w.r.t. Z1\n",
    "HiddenLayer_activations_wrt_hiddenLayer_linearTransform = np.multiply(Hidden, (1 - Hidden))\n",
    "print(HiddenLayer_activations_wrt_hiddenLayer_linearTransform)\n",
    "print(HiddenLayer_activations_wrt_hiddenLayer_linearTransform.shape)"
   ]
  },
  {
   "cell_type": "code",
   "execution_count": 40,
   "id": "0e5703da-a05c-4c11-ae56-01ea4bed85b0",
   "metadata": {},
   "outputs": [
    {
     "name": "stdout",
     "output_type": "stream",
     "text": [
      "[[-0.2766739 ]\n",
      " [-0.25500396]\n",
      " [-0.28878403]\n",
      " [-0.30526745]\n",
      " [-0.07986422]\n",
      " [ 0.0154565 ]\n",
      " [-0.09107983]\n",
      " [-0.04142885]\n",
      " [-0.02448355]\n",
      " [-0.07312978]\n",
      " [ 0.02932844]\n",
      " [ 0.06036309]\n",
      " [ 0.19363183]\n",
      " [ 0.32651585]\n",
      " [ 0.40357426]\n",
      " [ 0.47480062]\n",
      " [ 0.6580293 ]\n",
      " [ 0.8402946 ]\n",
      " [ 0.97009194]\n",
      " [ 1.052686  ]\n",
      " [ 1.2299551 ]\n",
      " [ 1.2790064 ]\n",
      " [ 1.348885  ]\n",
      " [ 1.4271759 ]\n",
      " [ 1.4464406 ]\n",
      " [ 1.5332973 ]\n",
      " [ 1.4479108 ]\n",
      " [ 1.484803  ]\n",
      " [ 1.3375281 ]\n",
      " [ 1.0058546 ]\n",
      " [ 0.6803286 ]\n",
      " [ 0.2475269 ]\n",
      " [ 0.12911661]\n",
      " [ 0.02478959]\n",
      " [ 0.06610307]\n",
      " [-0.05698621]\n",
      " [-0.21121842]\n",
      " [-0.06347879]\n",
      " [-0.01521654]\n",
      " [ 0.08258462]\n",
      " [-0.09642395]\n",
      " [-0.1463063 ]\n",
      " [ 0.02581616]\n",
      " [-0.02688991]\n",
      " [ 0.00860678]\n",
      " [-0.12347566]\n",
      " [-0.19812377]\n",
      " [-0.25137097]\n",
      " [-0.2518826 ]\n",
      " [-0.30774808]\n",
      " [-0.29718202]\n",
      " [-0.32245493]\n",
      " [-0.3083227 ]\n",
      " [-0.33359253]\n",
      " [-0.32583842]\n",
      " [-0.3344073 ]\n",
      " [-0.33134356]\n",
      " [-0.32227743]\n",
      " [-0.32990798]\n",
      " [-0.3373498 ]]\n",
      "(60, 1)\n"
     ]
    }
   ],
   "source": [
    "# rate of change of Z1 w.r.t. weights between input and hidden layer\n",
    "HiddenLayer_linearTransform_wrt_weights_input_hidden = Input[:,Train_seq[0]].reshape(NumInput,1)\n",
    "print(HiddenLayer_linearTransform_wrt_weights_input_hidden)\n",
    "print(HiddenLayer_linearTransform_wrt_weights_input_hidden.shape)"
   ]
  },
  {
   "cell_type": "code",
   "execution_count": 41,
   "id": "e87c800c-6e87-41b7-bf2e-f4431445b0f7",
   "metadata": {},
   "outputs": [
    {
     "name": "stdout",
     "output_type": "stream",
     "text": [
      "[[ 0.00278867  0.05463301  0.07408554]\n",
      " [-0.09839061 -0.03805281  0.09152075]\n",
      " [ 0.00262334 -0.03634312  0.00783999]\n",
      " [-0.05574901  0.06129627 -0.03154907]\n",
      " [ 0.00777777 -0.09882524  0.0346305 ]\n",
      " [-0.05799515  0.08651152 -0.02515105]\n",
      " [ 0.05048378  0.0526278   0.07409989]\n",
      " [-0.07797776 -0.0399816  -0.00501885]\n",
      " [ 0.03458734 -0.04848151  0.04023026]\n",
      " [ 0.03140001 -0.06359845 -0.0355874 ]\n",
      " [ 0.07750749 -0.08333017  0.04931282]\n",
      " [-0.08752999  0.04629623  0.04850227]\n",
      " [-0.01841684  0.0982766  -0.00957254]\n",
      " [-0.06202429 -0.02967471  0.04296233]\n",
      " [-0.02851293 -0.08967629 -0.0368162 ]\n",
      " [ 0.09976092 -0.04241903 -0.00764083]\n",
      " [ 0.04705362  0.08873579 -0.06491947]\n",
      " [-0.05751572 -0.07350448 -0.05826376]\n",
      " [ 0.09913759 -0.05067083 -0.07798937]\n",
      " [ 0.00046405 -0.00877564  0.04689805]\n",
      " [ 0.02418871  0.02421405 -0.06996547]\n",
      " [ 0.00765491 -0.07593055 -0.0693949 ]\n",
      " [-0.00996429 -0.01418553  0.04673242]\n",
      " [-0.08528569 -0.04424283 -0.06694125]\n",
      " [ 0.00161763  0.01585023  0.02772159]\n",
      " [-0.05719486 -0.01648447 -0.00663716]\n",
      " [-0.08338616  0.01405458 -0.05429649]\n",
      " [-0.09285406  0.09290586 -0.08506801]\n",
      " [ 0.04609605  0.00052598 -0.08147783]\n",
      " [ 0.00478987 -0.01315641  0.00960328]\n",
      " [ 0.08700139  0.09901006  0.03246361]\n",
      " [-0.02917395 -0.0121686   0.05510318]\n",
      " [ 0.02573812 -0.08040182  0.03031721]\n",
      " [ 0.0937232  -0.05260961 -0.02145525]\n",
      " [-0.08346696  0.06471016 -0.04210074]\n",
      " [-0.06720038 -0.06737299 -0.04440726]\n",
      " [-0.0985875   0.04975112  0.07076298]\n",
      " [ 0.08514049 -0.03957102 -0.00517393]\n",
      " [ 0.04806309  0.03012744 -0.04647646]\n",
      " [-0.02214574  0.08104818  0.04616843]\n",
      " [-0.08475077 -0.05874435  0.07766368]\n",
      " [-0.01745898 -0.0590978  -0.03061373]\n",
      " [-0.01756022  0.0510569  -0.07338319]\n",
      " [ 0.07096422 -0.02403836 -0.0046244 ]\n",
      " [-0.07396926 -0.04556052  0.08916759]\n",
      " [-0.00512889 -0.06951468  0.01042941]\n",
      " [ 0.02413384  0.06980532 -0.01428624]\n",
      " [ 0.09161739 -0.06086192  0.00331786]\n",
      " [-0.01968116 -0.04423673  0.0208179 ]\n",
      " [-0.08406552 -0.00097042 -0.0051856 ]\n",
      " [ 0.04716109 -0.04130874 -0.05658223]\n",
      " [-0.05888388  0.09641007 -0.00941526]\n",
      " [ 0.09173699  0.07922131 -0.01181859]\n",
      " [-0.0180076   0.03219283  0.08679627]\n",
      " [ 0.0609074  -0.00510494 -0.00121128]\n",
      " [-0.048921    0.02149883 -0.08734619]\n",
      " [ 0.01429469 -0.08170415  0.00410683]\n",
      " [ 0.01953048  0.05452827  0.00502241]\n",
      " [ 0.02785503  0.00807338 -0.04688351]\n",
      " [-0.0378043  -0.01138577 -0.02463063]]\n",
      "(60, 3)\n"
     ]
    }
   ],
   "source": [
    "# shape of weights of hidden layer\n",
    "print(weights_input_hidden)\n",
    "print(weights_input_hidden.shape)"
   ]
  },
  {
   "cell_type": "code",
   "execution_count": 42,
   "id": "0d72bd11-5ea7-4629-bed5-ecea4b7b7f9c",
   "metadata": {},
   "outputs": [
    {
     "name": "stdout",
     "output_type": "stream",
     "text": [
      "[[-3.39298731e-05  9.27707083e-04  7.33645113e-04]\n",
      " [-3.12723808e-05  8.55046203e-04  6.76183765e-04]\n",
      " [-3.54149955e-05  9.68313147e-04  7.65757016e-04]\n",
      " [-3.74364385e-05  1.02358323e-03  8.09465456e-04]\n",
      " [-9.79413916e-06  2.67790341e-04  2.11772744e-04]\n",
      " [ 1.89550659e-06 -5.18267453e-05 -4.09853919e-05]\n",
      " [-1.11695645e-05  3.05397077e-04  2.41512733e-04]\n",
      " [-5.08062162e-06  1.38913831e-04  1.09855207e-04]\n",
      " [-3.00253757e-06  8.20950719e-05  6.49220529e-05]\n",
      " [-8.96826212e-06  2.45209296e-04  1.93915305e-04]\n",
      " [ 3.59669020e-06 -9.83403318e-05 -7.77690557e-05]\n",
      " [ 7.40262069e-06 -2.02401690e-04 -1.60062388e-04]\n",
      " [ 2.37460166e-05 -6.49261132e-04 -5.13445748e-04]\n",
      " [ 4.00422336e-05 -1.09483061e-03 -8.65808986e-04]\n",
      " [ 4.94922821e-05 -1.35321286e-03 -1.07014167e-03]\n",
      " [ 5.82271182e-05 -1.59203985e-03 -1.25900974e-03]\n",
      " [ 8.06973487e-05 -2.20641857e-03 -1.74486994e-03]\n",
      " [ 1.03049430e-04 -2.81756687e-03 -2.22817547e-03]\n",
      " [ 1.18967112e-04 -3.25278648e-03 -2.57235387e-03]\n",
      " [ 1.29096022e-04 -3.52973009e-03 -2.79136516e-03]\n",
      " [ 1.50835397e-04 -4.12412585e-03 -3.26142252e-03]\n",
      " [ 1.56850796e-04 -4.28859826e-03 -3.39148985e-03]\n",
      " [ 1.65420362e-04 -4.52290644e-03 -3.57678438e-03]\n",
      " [ 1.75021548e-04 -4.78542107e-03 -3.78438501e-03]\n",
      " [ 1.77384072e-04 -4.85001695e-03 -3.83546844e-03]\n",
      " [ 1.88035736e-04 -5.14125365e-03 -4.06578292e-03]\n",
      " [ 1.77564370e-04 -4.85494666e-03 -3.83936693e-03]\n",
      " [ 1.82088638e-04 -4.97864872e-03 -3.93719243e-03]\n",
      " [ 1.64027604e-04 -4.48482579e-03 -3.54666962e-03]\n",
      " [ 1.23352862e-04 -3.37270122e-03 -2.66718430e-03]\n",
      " [ 8.34320195e-05 -2.28118965e-03 -1.80400007e-03]\n",
      " [ 3.03554324e-05 -8.29975095e-04 -6.56357145e-04]\n",
      " [ 1.58342004e-05 -4.32937070e-04 -3.42373333e-04]\n",
      " [ 3.04006807e-06 -8.31212270e-05 -6.57335522e-05]\n",
      " [ 8.10654240e-06 -2.21648245e-04 -1.75282861e-04]\n",
      " [-6.98849710e-06  1.91078765e-04  1.51108044e-04]\n",
      " [-2.59027459e-05  7.08230201e-04  5.60079400e-04]\n",
      " [-7.78471404e-06  2.12848847e-04  1.68324161e-04]\n",
      " [-1.86607845e-06  5.10221240e-05  4.03490850e-05]\n",
      " [ 1.01277552e-05 -2.76912036e-04 -2.18986322e-04]\n",
      " [-1.18249394e-05  3.23316271e-04  2.55683509e-04]\n",
      " [-1.79422568e-05  4.90575331e-04  3.87954561e-04]\n",
      " [ 3.16596146e-06 -8.65633910e-05 -6.84556688e-05]\n",
      " [-3.29764063e-06  9.01637494e-05  7.13028879e-05]\n",
      " [ 1.05549093e-06 -2.88591239e-05 -2.28222417e-05]\n",
      " [-1.51424236e-05  4.14022581e-04  3.27415462e-04]\n",
      " [-2.42968852e-05  6.64322924e-04  5.25356845e-04]\n",
      " [-3.08268492e-05  8.42864524e-04  6.66550305e-04]\n",
      " [-3.08895948e-05  8.44580110e-04  6.67907017e-04]\n",
      " [-3.77406498e-05  1.03190095e-03  8.16043233e-04]\n",
      " [-3.64448828e-05  9.96472219e-04  7.88025646e-04]\n",
      " [-3.95442227e-05  1.08121405e-03  8.55040797e-04]\n",
      " [-3.78111181e-05  1.03382768e-03  8.17566926e-04]\n",
      " [-4.09100815e-05  1.11855922e-03  8.84573936e-04]\n",
      " [-3.99591563e-05  1.09255912e-03  8.64012655e-04]\n",
      " [-4.10100002e-05  1.12129119e-03  8.86734418e-04]\n",
      " [-4.06342790e-05  1.11101826e-03  8.78610426e-04]\n",
      " [-3.95224546e-05  1.08061887e-03  8.54570120e-04]\n",
      " [-4.04582271e-05  1.10620466e-03  8.74803761e-04]\n",
      " [-4.13708537e-05  1.13115761e-03  8.94536933e-04]]\n",
      "(60, 3)\n"
     ]
    }
   ],
   "source": [
    "# rate of change of error w.r.t weights between input and hidden layer\n",
    "Error_wrt_weights_input_hidden = np.dot(\n",
    "    HiddenLayer_linearTransform_wrt_weights_input_hidden,\n",
    "    (\n",
    "        HiddenLayer_activations_wrt_hiddenLayer_linearTransform\n",
    "        * np.dot(OutputLayer_LinearTransform_wrt_hiddenLayer_activations,\n",
    "            (Output_wrt_outputLayer_LinearTransform *   Error_wrt_output),\n",
    "        )\n",
    "    ).T,)\n",
    "print(Error_wrt_weights_input_hidden)\n",
    "print(Error_wrt_weights_input_hidden.shape)"
   ]
  },
  {
   "cell_type": "code",
   "execution_count": 43,
   "id": "fa2d02d3-9c88-48fb-8dff-048baa3090b8",
   "metadata": {},
   "outputs": [],
   "source": [
    "# กำหนดค่า learning rate\n",
    "alpha = 0.01"
   ]
  },
  {
   "cell_type": "code",
   "execution_count": 44,
   "id": "0cf327df-4ee8-4e6a-9ce0-6c8e85eb12dd",
   "metadata": {},
   "outputs": [
    {
     "name": "stdout",
     "output_type": "stream",
     "text": [
      "weights_hidden_output: before update\n",
      "[[ 0.01346368 -0.01742497]\n",
      " [ 0.09068039  0.0193358 ]\n",
      " [-0.00518279  0.09909991]]\n",
      "\n",
      "weights_hidden_output: updated\n",
      "[[ 0.01401307 -0.01687237]\n",
      " [ 0.0912691   0.01992794]\n",
      " [-0.00474496  0.09954029]]\n"
     ]
    }
   ],
   "source": [
    "# updating the weights of output layer\n",
    "print(\"weights_hidden_output: before update\")\n",
    "print(weights_hidden_output)\n",
    "weights_hidden_output = weights_hidden_output - alpha * Error_wrt_weights_hidden_output\n",
    "print(\"\\nweights_hidden_output: updated\")\n",
    "print(weights_hidden_output)"
   ]
  },
  {
   "cell_type": "code",
   "execution_count": 45,
   "id": "b52ffa20-7b12-493b-b4d8-b46961e80d34",
   "metadata": {},
   "outputs": [
    {
     "name": "stdout",
     "output_type": "stream",
     "text": [
      "weights_input_hidden: before update\n",
      "[[ 0.00278867  0.05463301  0.07408554]\n",
      " [-0.09839061 -0.03805281  0.09152075]\n",
      " [ 0.00262334 -0.03634312  0.00783999]\n",
      " [-0.05574901  0.06129627 -0.03154907]\n",
      " [ 0.00777777 -0.09882524  0.0346305 ]\n",
      " [-0.05799515  0.08651152 -0.02515105]\n",
      " [ 0.05048378  0.0526278   0.07409989]\n",
      " [-0.07797776 -0.0399816  -0.00501885]\n",
      " [ 0.03458734 -0.04848151  0.04023026]\n",
      " [ 0.03140001 -0.06359845 -0.0355874 ]\n",
      " [ 0.07750749 -0.08333017  0.04931282]\n",
      " [-0.08752999  0.04629623  0.04850227]\n",
      " [-0.01841684  0.0982766  -0.00957254]\n",
      " [-0.06202429 -0.02967471  0.04296233]\n",
      " [-0.02851293 -0.08967629 -0.0368162 ]\n",
      " [ 0.09976092 -0.04241903 -0.00764083]\n",
      " [ 0.04705362  0.08873579 -0.06491947]\n",
      " [-0.05751572 -0.07350448 -0.05826376]\n",
      " [ 0.09913759 -0.05067083 -0.07798937]\n",
      " [ 0.00046405 -0.00877564  0.04689805]\n",
      " [ 0.02418871  0.02421405 -0.06996547]\n",
      " [ 0.00765491 -0.07593055 -0.0693949 ]\n",
      " [-0.00996429 -0.01418553  0.04673242]\n",
      " [-0.08528569 -0.04424283 -0.06694125]\n",
      " [ 0.00161763  0.01585023  0.02772159]\n",
      " [-0.05719486 -0.01648447 -0.00663716]\n",
      " [-0.08338616  0.01405458 -0.05429649]\n",
      " [-0.09285406  0.09290586 -0.08506801]\n",
      " [ 0.04609605  0.00052598 -0.08147783]\n",
      " [ 0.00478987 -0.01315641  0.00960328]\n",
      " [ 0.08700139  0.09901006  0.03246361]\n",
      " [-0.02917395 -0.0121686   0.05510318]\n",
      " [ 0.02573812 -0.08040182  0.03031721]\n",
      " [ 0.0937232  -0.05260961 -0.02145525]\n",
      " [-0.08346696  0.06471016 -0.04210074]\n",
      " [-0.06720038 -0.06737299 -0.04440726]\n",
      " [-0.0985875   0.04975112  0.07076298]\n",
      " [ 0.08514049 -0.03957102 -0.00517393]\n",
      " [ 0.04806309  0.03012744 -0.04647646]\n",
      " [-0.02214574  0.08104818  0.04616843]\n",
      " [-0.08475077 -0.05874435  0.07766368]\n",
      " [-0.01745898 -0.0590978  -0.03061373]\n",
      " [-0.01756022  0.0510569  -0.07338319]\n",
      " [ 0.07096422 -0.02403836 -0.0046244 ]\n",
      " [-0.07396926 -0.04556052  0.08916759]\n",
      " [-0.00512889 -0.06951468  0.01042941]\n",
      " [ 0.02413384  0.06980532 -0.01428624]\n",
      " [ 0.09161739 -0.06086192  0.00331786]\n",
      " [-0.01968116 -0.04423673  0.0208179 ]\n",
      " [-0.08406552 -0.00097042 -0.0051856 ]\n",
      " [ 0.04716109 -0.04130874 -0.05658223]\n",
      " [-0.05888388  0.09641007 -0.00941526]\n",
      " [ 0.09173699  0.07922131 -0.01181859]\n",
      " [-0.0180076   0.03219283  0.08679627]\n",
      " [ 0.0609074  -0.00510494 -0.00121128]\n",
      " [-0.048921    0.02149883 -0.08734619]\n",
      " [ 0.01429469 -0.08170415  0.00410683]\n",
      " [ 0.01953048  0.05452827  0.00502241]\n",
      " [ 0.02785503  0.00807338 -0.04688351]\n",
      " [-0.0378043  -0.01138577 -0.02463063]]\n",
      "\n",
      "weights_input_hidden: updated\n",
      "[[ 0.00278901  0.05462373  0.0740782 ]\n",
      " [-0.0983903  -0.03806137  0.09151399]\n",
      " [ 0.0026237  -0.0363528   0.00783233]\n",
      " [-0.05574864  0.06128604 -0.03155717]\n",
      " [ 0.00777787 -0.09882792  0.03462838]\n",
      " [-0.05799517  0.08651204 -0.02515064]\n",
      " [ 0.0504839   0.05262475  0.07409748]\n",
      " [-0.07797771 -0.03998299 -0.00501995]\n",
      " [ 0.03458737 -0.04848233  0.04022961]\n",
      " [ 0.0314001  -0.0636009  -0.03558934]\n",
      " [ 0.07750746 -0.08332918  0.0493136 ]\n",
      " [-0.08753006  0.04629825  0.04850387]\n",
      " [-0.01841707  0.09828309 -0.00956741]\n",
      " [-0.06202469 -0.02966376  0.04297099]\n",
      " [-0.02851342 -0.08966276 -0.0368055 ]\n",
      " [ 0.09976034 -0.04240311 -0.00762824]\n",
      " [ 0.04705282  0.08875785 -0.06490202]\n",
      " [-0.05751676 -0.0734763  -0.05824148]\n",
      " [ 0.0991364  -0.05063831 -0.07796364]\n",
      " [ 0.00046276 -0.00874034  0.04692596]\n",
      " [ 0.0241872   0.02425529 -0.06993286]\n",
      " [ 0.00765334 -0.07588767 -0.06936098]\n",
      " [-0.00996594 -0.0141403   0.04676818]\n",
      " [-0.08528744 -0.04419498 -0.0669034 ]\n",
      " [ 0.00161585  0.01589873  0.02775994]\n",
      " [-0.05719674 -0.01643306 -0.00659651]\n",
      " [-0.08338793  0.01410313 -0.05425809]\n",
      " [-0.09285588  0.09295564 -0.08502864]\n",
      " [ 0.04609441  0.00057083 -0.08144237]\n",
      " [ 0.00478864 -0.01312268  0.00962995]\n",
      " [ 0.08700056  0.09903287  0.03248165]\n",
      " [-0.02917425 -0.0121603   0.05510974]\n",
      " [ 0.02573797 -0.08039749  0.03032064]\n",
      " [ 0.09372317 -0.05260878 -0.02145459]\n",
      " [-0.08346704  0.06471238 -0.04209899]\n",
      " [-0.06720031 -0.0673749  -0.04440877]\n",
      " [-0.09858724  0.04974404  0.07075738]\n",
      " [ 0.08514056 -0.03957315 -0.00517561]\n",
      " [ 0.04806311  0.03012693 -0.04647686]\n",
      " [-0.02214585  0.08105094  0.04617062]\n",
      " [-0.08475065 -0.05874758  0.07766112]\n",
      " [-0.0174588  -0.05910271 -0.03061761]\n",
      " [-0.01756025  0.05105777 -0.07338251]\n",
      " [ 0.07096426 -0.02403927 -0.00462511]\n",
      " [-0.07396927 -0.04556024  0.08916782]\n",
      " [-0.00512874 -0.06951882  0.01042613]\n",
      " [ 0.02413408  0.06979867 -0.01429149]\n",
      " [ 0.0916177  -0.06087035  0.00331119]\n",
      " [-0.01968085 -0.04424517  0.02081122]\n",
      " [-0.08406514 -0.00098074 -0.00519376]\n",
      " [ 0.04716145 -0.0413187  -0.05659011]\n",
      " [-0.05888348  0.09639926 -0.00942381]\n",
      " [ 0.09173737  0.07921097 -0.01182677]\n",
      " [-0.01800719  0.03218165  0.08678742]\n",
      " [ 0.06090779 -0.00511587 -0.00121992]\n",
      " [-0.04892059  0.02148762 -0.08735505]\n",
      " [ 0.0142951  -0.08171526  0.00409804]\n",
      " [ 0.01953088  0.05451747  0.00501386]\n",
      " [ 0.02785543  0.00806232 -0.04689226]\n",
      " [-0.03780389 -0.01139709 -0.02463958]]\n"
     ]
    }
   ],
   "source": [
    "# updating the weights of hidden layer\n",
    "print(\"weights_input_hidden: before update\")\n",
    "print(weights_input_hidden)\n",
    "weights_input_hidden = weights_input_hidden - alpha * Error_wrt_weights_input_hidden\n",
    "print(\"\\nweights_input_hidden: updated\")\n",
    "print(weights_input_hidden)"
   ]
  },
  {
   "cell_type": "markdown",
   "id": "c4ea5f21-bb8c-4734-a65f-a0c4aac81af3",
   "metadata": {},
   "source": [
    "----\n",
    "ขั้นตอนที่ 5 (ต่อ) ทำกระบวนการ Train ต่อไป จนครบทุก pattern แล้วเริ่มทำอีกครั้ง (Random ลำดับการป้อน Input ใหม่) เรียกว่า จบ 1 Epoch หรือ 1 iteration   \n",
    "ทำซ้ำ ๆ อีกหลาย ๆ Epoch/iteration จนกระทั้ง Error (Mean square Error) มีค่าลดลงต่ำที่สุด จึงจบกระบวนการ Train  \n",
    "อาจจะต้องมีการปรับค่าบางอย่างเพื่อทำให้ Neural Network ทำกระบวนการ Train ได้ดีขึ้น เช่น \n",
    "hyperparameter ต่าง ๆ จำนวน Epoch หรือ อาจจะใช้เทคนิคอื่น ๆ เช่น weight decay , momentum (ต้องศึกษาเพิ่มเติม)"
   ]
  },
  {
   "cell_type": "code",
   "execution_count": 46,
   "id": "8ebd11ce-1525-4dca-9ff7-33ed8ea74413",
   "metadata": {},
   "outputs": [
    {
     "data": {
      "text/plain": [
       "208"
      ]
     },
     "execution_count": 46,
     "metadata": {},
     "output_type": "execute_result"
    }
   ],
   "source": [
    "NumData"
   ]
  },
  {
   "cell_type": "code",
   "execution_count": 47,
   "id": "767dd4d0-3b64-450b-9a2f-d84e096768b1",
   "metadata": {},
   "outputs": [
    {
     "name": "stdout",
     "output_type": "stream",
     "text": [
      "Number of Train data:  187\n",
      "Number of Test data:  21\n"
     ]
    }
   ],
   "source": [
    "Input_Train = np.zeros((187,60),dtype='f')\n",
    "Input_Test = np.zeros((21,60),dtype='f')\n",
    "Target_Train = np.zeros((187,1),dtype='i')\n",
    "Target_Test = np.zeros((21,1),dtype='i') \n",
    "\n",
    "# กำหนด Train Set และ Test set\n",
    "indexTest = 0\n",
    "indexTrain = -1 # ต้องกำหนดให้เป็น -1 เพื่อป้องกัน Index Error เพราะมีการเรียกเกิน index ที่มี\n",
    "\n",
    "for i in range(NumData):\n",
    "      \n",
    "    if (i%10) == 9:\n",
    "        Input_Test[indexTest] = Input_array[i]\n",
    "        Target_Test[indexTest] = Target_array[i]\n",
    "        indexTest += 1\n",
    "    else:\n",
    "        Input_Train[indexTrain] = Input_array[i]\n",
    "        Target_Train[indexTrain] = Target_array[i]\n",
    "        indexTrain += 1\n",
    "\n",
    "NumTest = Input_Test.shape[0]  # จำนวน test = จำนวน row ของ Input_Test \n",
    "NumTrain = Input_Train.shape[0] # จำนวน train = จำนวน row ของ Input_Train \n",
    "\n",
    "print('Number of Train data: ',NumTrain)\n",
    "print('Number of Test data: ',NumTest)\n",
    "\n",
    "np.random.seed(14)\n",
    "\n",
    "Input = Input_Train.T\n",
    "Target = Target_Train.T"
   ]
  },
  {
   "cell_type": "code",
   "execution_count": 48,
   "id": "80c2d154-66e3-4db9-bb97-29ff2ec7ff43",
   "metadata": {},
   "outputs": [],
   "source": [
    "# จากข้างต้นทั้งหมด สรุปรวมได้ดังนี้\n",
    "# กำหนดขนาดของ Network\n",
    "NumInput = 60\n",
    "#Number of Hidden Layer = 1\n",
    "NumHidden = 3\n",
    "NumOutput = 2\n",
    "# กำหนดค่าเริ่มต้นของ Weight\n",
    "weights_input_hidden = np.random.uniform(size=(NumInput,NumHidden))\n",
    "weights_hidden_output = np.random.uniform(size=(NumHidden, NumOutput))\n",
    "# กำหนดค่า learning rate\n",
    "alpha = 0.01\n",
    "\n",
    "\n",
    "# กำหนด Acitvate function ที่จะนำมาใช้\n",
    "def sigmoid(x):\n",
    "    return 1 / (1 + np.exp(-x))\n",
    "\n",
    " \n",
    "# กำหนดจำนวน Epoch\n",
    "epochs = 100"
   ]
  },
  {
   "cell_type": "markdown",
   "id": "3ff42aac-1ac4-49a4-b19b-d6bc621fb235",
   "metadata": {},
   "source": [
    "### Epoch\n",
    "**สาเหตุที่กำหนด epochs = 100**\n",
    "* จากการทดลองของ https://www.simonwenkel.com/2018/08/23/revisiting_ml_sonar_mines_vs_rocks.html มีการกำหนด epoch = 250 เมื่อเราทดลองกำหนด epochs > 250 พบว่าจะทำให้โมเดลทำนายผิดเนื่องจากการเป็น overfitting ของข้อมูล \n",
    "* เราจึงทำการปรับค่า epoch ลงมาโดยดูจากค่า error ที่เกิดขึ้นในเเต่ละ epoch เเละได้ช่วงที่เหมาะสมคือ 100\n"
   ]
  },
  {
   "cell_type": "code",
   "execution_count": 49,
   "id": "246125a1-4756-49dc-8293-a3243e79571a",
   "metadata": {},
   "outputs": [
    {
     "name": "stdout",
     "output_type": "stream",
     "text": [
      "Error at epoch 0 is 0.13730\n",
      "Error at epoch 10 is 0.03375\n",
      "Error at epoch 20 is 0.21006\n",
      "Error at epoch 30 is 0.12641\n",
      "Error at epoch 40 is 0.12026\n",
      "Error at epoch 50 is 0.01528\n",
      "Error at epoch 60 is 0.18672\n",
      "Error at epoch 70 is 0.09241\n",
      "Error at epoch 80 is 0.03481\n",
      "Error at epoch 90 is 0.00770\n"
     ]
    }
   ],
   "source": [
    "losses = []\n",
    "for epoch in range(epochs):\n",
    "    # random ลำดับของ input ที่จะถูกป้อนเข้า nerual net เพื่อใช้ในการ train\n",
    "    Train_seq = np.random.permutation(NumTrain)\n",
    "    \n",
    "    # Start Train\n",
    "    for i in range(NumTrain):\n",
    "    \n",
    "        #########################\n",
    "        ## Forward Propogation ##\n",
    "        #########################\n",
    "        # calculating hidden layer activations\n",
    "        Hidden = np.dot(weights_input_hidden.T,Input[:,Train_seq[i]].reshape(NumInput,1) )\n",
    "        Hidden = sigmoid(Hidden)\n",
    "\n",
    "        # calculating the output\n",
    "        Output = np.dot(weights_hidden_output.T, Hidden)\n",
    "        Output = sigmoid(Output)\n",
    "        \n",
    "        ##########################\n",
    "        ## Backward Propagation ##\n",
    "        ##########################\n",
    "        # calculating error\n",
    "        #change shape NumOutput -->1\n",
    "        Error = np.square(Target[:,Train_seq[i]].reshape(1,1) - Output) / 2\n",
    "\n",
    "        # calculating rate of change of error w.r.t weight between hidden and output layer\n",
    "        Error_wrt_output = -(Target[:,Train_seq[i]].reshape(1,1) - Output)\n",
    "        Output_wrt_outputLayer_LinearTransform = np.multiply(Output, (1 - Output))\n",
    "        OutputLayer_LinearTransform_wrt_weights_hidden_output = Hidden\n",
    "\n",
    "        Error_wrt_weights_hidden_output = np.dot(OutputLayer_LinearTransform_wrt_weights_hidden_output,\n",
    "                                                 (Error_wrt_output * Output_wrt_outputLayer_LinearTransform).T,)\n",
    "\n",
    "        # calculating rate of change of error w.r.t weights between input and hidden layer\n",
    "        OutputLayer_LinearTransform_wrt_hiddenLayer_activations = weights_hidden_output\n",
    "        HiddenLayer_activations_wrt_hiddenLayer_linearTransform = np.multiply(Hidden, (1 - Hidden))\n",
    "        HiddenLayer_linearTransform_wrt_weights_input_hidden = Input[:,Train_seq[i]].reshape(NumInput,1)\n",
    "        Error_wrt_weights_input_hidden = np.dot(HiddenLayer_linearTransform_wrt_weights_input_hidden,\n",
    "            (HiddenLayer_activations_wrt_hiddenLayer_linearTransform\n",
    "                * np.dot(OutputLayer_LinearTransform_wrt_hiddenLayer_activations,\n",
    "                (Output_wrt_outputLayer_LinearTransform * Error_wrt_output),)).T,)\n",
    "\n",
    "        # updating the weights\n",
    "        weights_hidden_output = weights_hidden_output - alpha * Error_wrt_weights_hidden_output\n",
    "        weights_input_hidden = weights_input_hidden - alpha * Error_wrt_weights_input_hidden\n",
    "        \n",
    "    # print error at every 10th epoch\n",
    "    epoch_loss = np.average(Error)\n",
    "    if epoch % 10 == 0:\n",
    "        print(f\"Error at epoch {epoch} is {epoch_loss:.5f}\")\n",
    "\n",
    "    # appending the error of each epoch\n",
    "    losses.append(epoch_loss)"
   ]
  },
  {
   "cell_type": "code",
   "execution_count": 50,
   "id": "86a864f5-8c0c-4ed9-ba73-689bc92b2dea",
   "metadata": {},
   "outputs": [
    {
     "data": {
      "text/plain": [
       "array([[0, 0, 0, 0, 0, 0, 0, 0, 0, 0, 0, 0, 0, 0, 0, 0, 0, 0, 0, 0, 0, 0,\n",
       "        0, 0, 0, 0, 0, 0, 0, 0, 0, 0, 0, 0, 0, 0, 0, 0, 0, 0, 0, 0, 0, 0,\n",
       "        0, 0, 0, 0, 0, 0, 0, 0, 0, 0, 0, 0, 0, 0, 0, 0, 0, 0, 0, 0, 0, 0,\n",
       "        0, 0, 0, 0, 0, 0, 0, 0, 0, 0, 0, 0, 0, 0, 0, 0, 0, 0, 0, 0, 0, 1,\n",
       "        1, 1, 1, 1, 1, 1, 1, 1, 1, 1, 1, 1, 1, 1, 1, 1, 1, 1, 1, 1, 1, 1,\n",
       "        1, 1, 1, 1, 1, 1, 1, 1, 1, 1, 1, 1, 1, 1, 1, 1, 1, 1, 1, 1, 1, 1,\n",
       "        1, 1, 1, 1, 1, 1, 1, 1, 1, 1, 1, 1, 1, 1, 1, 1, 1, 1, 1, 1, 1, 1,\n",
       "        1, 1, 1, 1, 1, 1, 1, 1, 1, 1, 1, 1, 1, 1, 1, 1, 1, 1, 1, 1, 1, 1,\n",
       "        1, 1, 1, 1, 1, 1, 1, 1, 1, 1, 1]], dtype=int32)"
      ]
     },
     "execution_count": 50,
     "metadata": {},
     "output_type": "execute_result"
    }
   ],
   "source": [
    "Target"
   ]
  },
  {
   "cell_type": "code",
   "execution_count": 51,
   "id": "4b59e9ae-5027-49b3-97bc-256190b8cc2d",
   "metadata": {},
   "outputs": [
    {
     "data": {
      "text/plain": [
       "array([[0.70699305],\n",
       "       [0.71700163]])"
      ]
     },
     "execution_count": 51,
     "metadata": {},
     "output_type": "execute_result"
    }
   ],
   "source": [
    "Output"
   ]
  },
  {
   "cell_type": "code",
   "execution_count": 52,
   "id": "117c85e0-fe4c-4745-a5af-e1301f639cd3",
   "metadata": {},
   "outputs": [
    {
     "data": {
      "text/plain": [
       "[<matplotlib.lines.Line2D at 0x1c04a23af10>]"
      ]
     },
     "execution_count": 52,
     "metadata": {},
     "output_type": "execute_result"
    },
    {
     "data": {
      "image/png": "[encoded data removed]",
      "text/plain": [
       "<Figure size 432x288 with 1 Axes>"
      ]
     },
     "metadata": {
      "needs_background": "light"
     },
     "output_type": "display_data"
    }
   ],
   "source": [
    "# visualizing the error after each epoch\n",
    "import matplotlib.pyplot as plt\n",
    "plt.plot(np.arange(1, epochs + 1), np.array(losses))"
   ]
  },
  {
   "cell_type": "markdown",
   "id": "e12de4a8-bc03-4a42-b20a-18a986e8de43",
   "metadata": {},
   "source": [
    "----\n",
    "### ขั้นตอนที่ 6 ทดสอบ model \n",
    "เมื่อกระบวนการ Train (ปรับปรุง weight)เสร็จสิ้น จนเป็นที่พอใจแล้วขั้นตอนต่อไปคือการทดสอบ model  \n",
    "ให้ทำการโหลด Test set เข้ามาทดสอบ\n"
   ]
  },
  {
   "cell_type": "code",
   "execution_count": 53,
   "id": "0814a65c-ac00-4c3b-9c1b-f78e35fbdecf",
   "metadata": {},
   "outputs": [
    {
     "name": "stdout",
     "output_type": "stream",
     "text": [
      "Confusion Matrix (row=Actual, col=Predicted)\n",
      "[[7 3]\n",
      " [5 6]]\n",
      "accuracy = 61.90%\n"
     ]
    }
   ],
   "source": [
    "Input = Input_Test.T\n",
    "Target = Target_Test.T\n",
    "    \n",
    "#########################\n",
    "## Forward Propogation ##\n",
    "#########################\n",
    "# calculating hidden layer activations\n",
    "Hidden = np.dot(weights_input_hidden.T,Input)\n",
    "Hidden = sigmoid(Hidden)\n",
    "\n",
    "# calculating the output\n",
    "Output = np.dot(weights_hidden_output.T, Hidden)\n",
    "Output = sigmoid(Output)\n",
    "\n",
    "\n",
    "#check ผล\n",
    "Class_Output = Output.argmax(axis=0)\n",
    "\n",
    "correct = 0\n",
    "miss = 0\n",
    "\n",
    "#confusion matrix (row=Actual, col=Predicted)\n",
    "conf_matrix = np.zeros((NumOutput,NumOutput),dtype='i')\n",
    "for i in range(NumTest):\n",
    "    if Class_Output[i] == Target[0][i]:\n",
    "        correct += 1\n",
    "    else:\n",
    "        miss += 1\n",
    "    conf_matrix[Target[0][i]][Class_Output[i]] += 1\n",
    "    \n",
    "    \n",
    "print('Confusion Matrix (row=Actual, col=Predicted)')\n",
    "print(conf_matrix)\n",
    "print('accuracy = {0:.2f}%'.format((correct/NumTest)*100))"
   ]
  },
  {
   "cell_type": "markdown",
   "id": "911cc389-3c9a-4d60-a361-75ae4b288d77",
   "metadata": {},
   "source": [
    "### อย่าลืมว่าขณะนี้ทดสอบที่ fold 1 เท่านั้น จะต้องเรียก fold 2, 3, 4, 5 มา Train และ Test ให้ครบ   \n",
    "### จากนั้นจึงเอา ค่า accuracy ของทั้ง 5 รอบมาหาค่าเฉลี่ยกัน จึงจะได้ ค่า accuracy ของ model "
   ]
  },
  {
   "cell_type": "code",
   "execution_count": 54,
   "id": "e2865fc3-5269-4cd5-8d76-4ac491059842",
   "metadata": {},
   "outputs": [],
   "source": [
    "def Evaluate_multifold(Input_array,Target_array, nfold):\n",
    "    scores = []\n",
    "    for n in range (nfold):\n",
    "        #================================= Train & Test Split ================================= \n",
    "        \n",
    "        Input_Train = np.zeros((187,60),dtype='f')\n",
    "        Input_Test = np.zeros((21,60),dtype='f')\n",
    "        Target_Train = np.zeros((187,1),dtype='i')\n",
    "        Target_Test = np.zeros((21,1),dtype='i') \n",
    "\n",
    "\n",
    "        # กำหนด Train Set และ Test set\n",
    "        indexTest = 0\n",
    "        indexTrain = -1 # ต้องกำหนดให้เป็น -1 เพื่อป้องกัน Index Error เพราะมีการเรียกเกิน index ที่มี\n",
    "\n",
    "        for i in range(NumData):\n",
    "\n",
    "            if (i%10) == n:\n",
    "                Input_Test[indexTest] = Input_array[i]\n",
    "                Target_Test[indexTest] = Target_array[i]\n",
    "                indexTest += 1\n",
    "            else:\n",
    "                Input_Train[indexTrain] = Input_array[i]\n",
    "                Target_Train[indexTrain] = Target_array[i]\n",
    "                indexTrain += 1\n",
    "\n",
    "        NumTest = Input_Test.shape[0]  # จำนวน test = จำนวน row ของ Input_Test \n",
    "        NumTrain = Input_Train.shape[0] # จำนวน train = จำนวน row ของ Input_Train \n",
    "\n",
    "        np.random.seed(14)\n",
    "\n",
    "        Input = Input_Train.T\n",
    "        Target = Target_Train.T\n",
    "        #================================= Hyperparameter  =================================\n",
    "        NumInput = 60\n",
    "        #Number of Hidden Layer = 1\n",
    "        NumHidden = 60\n",
    "        NumOutput = 2\n",
    "        # กำหนดค่าเริ่มต้นของ Weight\n",
    "        weights_input_hidden = np.random.uniform(size=(NumInput,NumHidden))\n",
    "        weights_hidden_output = np.random.uniform(size=(NumHidden, NumOutput))\n",
    "        # กำหนดค่า learning rate\n",
    "        alpha = 0.01\n",
    "\n",
    "\n",
    "        # กำหนด Acitvate function ที่จะนำมาใช้\n",
    "        def sigmoid(x):\n",
    "            return 1 / (1 + np.exp(-x))\n",
    "\n",
    "\n",
    "        # กำหนดจำนวน Epoch\n",
    "        epochs = 100\n",
    "        #================================= Train Model  =================================\n",
    "        losses = []\n",
    "        for epoch in range(epochs):\n",
    "            # random ลำดับของ input ที่จะถูกป้อนเข้า nerual net เพื่อใช้ในการ train\n",
    "            Train_seq = np.random.permutation(NumTrain)\n",
    "\n",
    "            # Start Train\n",
    "            for i in range(NumTrain):\n",
    "\n",
    "                #########################\n",
    "                ## Forward Propogation ##\n",
    "                #########################\n",
    "                # calculating hidden layer activations\n",
    "                Hidden = np.dot(weights_input_hidden.T,Input[:,Train_seq[i]].reshape(NumInput,1) )\n",
    "                Hidden = sigmoid(Hidden)\n",
    "\n",
    "                # calculating the output\n",
    "                Output = np.dot(weights_hidden_output.T, Hidden)\n",
    "                Output = sigmoid(Output)\n",
    "\n",
    "                ##########################\n",
    "                ## Backward Propagation ##\n",
    "                ##########################\n",
    "                # calculating error\n",
    "                #change shape NumOutput -->1\n",
    "                Error = np.square(Target[:,Train_seq[i]].reshape(1,1) - Output) / 2\n",
    "\n",
    "                # calculating rate of change of error w.r.t weight between hidden and output layer\n",
    "                Error_wrt_output = -(Target[:,Train_seq[i]].reshape(1,1) - Output)\n",
    "                Output_wrt_outputLayer_LinearTransform = np.multiply(Output, (1 - Output))\n",
    "                OutputLayer_LinearTransform_wrt_weights_hidden_output = Hidden\n",
    "\n",
    "                Error_wrt_weights_hidden_output = np.dot(OutputLayer_LinearTransform_wrt_weights_hidden_output,\n",
    "                                                         (Error_wrt_output * Output_wrt_outputLayer_LinearTransform).T,)\n",
    "\n",
    "                # calculating rate of change of error w.r.t weights between input and hidden layer\n",
    "                OutputLayer_LinearTransform_wrt_hiddenLayer_activations = weights_hidden_output\n",
    "                HiddenLayer_activations_wrt_hiddenLayer_linearTransform = np.multiply(Hidden, (1 - Hidden))\n",
    "                HiddenLayer_linearTransform_wrt_weights_input_hidden = Input[:,Train_seq[i]].reshape(NumInput,1)\n",
    "                Error_wrt_weights_input_hidden = np.dot(HiddenLayer_linearTransform_wrt_weights_input_hidden,\n",
    "                    (HiddenLayer_activations_wrt_hiddenLayer_linearTransform\n",
    "                        * np.dot(OutputLayer_LinearTransform_wrt_hiddenLayer_activations,\n",
    "                        (Output_wrt_outputLayer_LinearTransform * Error_wrt_output),)).T,)\n",
    "\n",
    "                # updating the weights\n",
    "                weights_hidden_output = weights_hidden_output - alpha * Error_wrt_weights_hidden_output\n",
    "                weights_input_hidden = weights_input_hidden - alpha * Error_wrt_weights_input_hidden\n",
    "\n",
    "            # print error at every 10th epoch\n",
    "            epoch_loss = np.average(Error)\n",
    "            if epoch % 10 == 0:\n",
    "                print(f\"Error at epoch {epoch} is {epoch_loss:.5f}\")\n",
    "\n",
    "            # appending the error of each epoch\n",
    "            losses.append(epoch_loss)\n",
    "        #================================= Test Model  =================================\n",
    "        Input = Input_Test.T\n",
    "        Target = Target_Test.T\n",
    "\n",
    "        #########################\n",
    "        ## Forward Propogation ##\n",
    "        #########################\n",
    "        # calculating hidden layer activations\n",
    "        Hidden = np.dot(weights_input_hidden.T,Input)\n",
    "        Hidden = sigmoid(Hidden)\n",
    "\n",
    "        # calculating the output\n",
    "        Output = np.dot(weights_hidden_output.T, Hidden)\n",
    "        Output = sigmoid(Output)\n",
    "\n",
    "\n",
    "        #check ผล\n",
    "        Class_Output = Output.argmax(axis=0)\n",
    "\n",
    "        correct = 0\n",
    "        miss = 0\n",
    "\n",
    "        #confusion matrix (row=Actual, col=Predicted)\n",
    "        conf_matrix = np.zeros((NumOutput,NumOutput),dtype='i')\n",
    "        for i in range(NumTest):\n",
    "            if Class_Output[i] == Target[0][i]:\n",
    "                correct += 1\n",
    "            else:\n",
    "                miss += 1\n",
    "            conf_matrix[Target[0][i]][Class_Output[i]] += 1\n",
    "            \n",
    "            \n",
    "\n",
    "        scores.append((correct/NumTest)*100)\n",
    "        print('Confusion Matrix (row=Actual, col=Predicted)')\n",
    "        print(conf_matrix)\n",
    "        print('Actual : ',Target[0])\n",
    "        print('Predicted :',Class_Output)\n",
    "        print('Accuracy : {0:.2f}%'.format((correct/NumTest)*100))\n",
    "        print(\"\")\n",
    "        print(\"Set Accuracy : \",scores)\n",
    "        avg_scores = sum(scores)/float(len(scores))\n",
    "        print(\"Mean Accuracy : {0:.3f}%\".format(avg_scores))\n",
    "        print(f\"================================ Fold:{n+1} ====================================\")\n",
    "        print(\"\")\n",
    "                                       \n",
    "        \n"
   ]
  },
  {
   "cell_type": "code",
   "execution_count": 55,
   "id": "e9bc1612-b426-40b0-8a75-6d2c7199aae5",
   "metadata": {},
   "outputs": [
    {
     "name": "stdout",
     "output_type": "stream",
     "text": [
      "Error at epoch 0 is 0.50000\n",
      "Error at epoch 10 is 0.00000\n",
      "Error at epoch 20 is 0.00000\n",
      "Error at epoch 30 is 0.00000\n",
      "Error at epoch 40 is 0.00000\n",
      "Error at epoch 50 is 0.50000\n",
      "Error at epoch 60 is 0.00000\n",
      "Error at epoch 70 is 0.00000\n",
      "Error at epoch 80 is 0.50000\n",
      "Error at epoch 90 is 0.00000\n",
      "Confusion Matrix (row=Actual, col=Predicted)\n",
      "[[10  0]\n",
      " [11  0]]\n",
      "Actual :  [0 0 0 0 0 0 0 0 0 0 1 1 1 1 1 1 1 1 1 1 1]\n",
      "Predicted : [0 0 0 0 0 0 0 0 0 0 0 0 0 0 0 0 0 0 0 0 0]\n",
      "Accuracy : 47.62%\n",
      "\n",
      "Set Accuracy :  [47.61904761904761]\n",
      "Mean Accuracy : 47.619%\n",
      "================================ Fold:1 ====================================\n",
      "\n",
      "Error at epoch 0 is 0.50000\n",
      "Error at epoch 10 is 0.00000\n",
      "Error at epoch 20 is 0.00000\n",
      "Error at epoch 30 is 0.00000\n",
      "Error at epoch 40 is 0.00000\n",
      "Error at epoch 50 is 0.50000\n",
      "Error at epoch 60 is 0.00000\n",
      "Error at epoch 70 is 0.00000\n",
      "Error at epoch 80 is 0.50000\n",
      "Error at epoch 90 is 0.00000\n",
      "Confusion Matrix (row=Actual, col=Predicted)\n",
      "[[10  0]\n",
      " [11  0]]\n",
      "Actual :  [0 0 0 0 0 0 0 0 0 0 1 1 1 1 1 1 1 1 1 1 1]\n",
      "Predicted : [0 0 0 0 0 0 0 0 0 0 0 0 0 0 0 0 0 0 0 0 0]\n",
      "Accuracy : 47.62%\n",
      "\n",
      "Set Accuracy :  [47.61904761904761, 47.61904761904761]\n",
      "Mean Accuracy : 47.619%\n",
      "================================ Fold:2 ====================================\n",
      "\n",
      "Error at epoch 0 is 0.50000\n",
      "Error at epoch 10 is 0.00000\n",
      "Error at epoch 20 is 0.00000\n",
      "Error at epoch 30 is 0.00000\n",
      "Error at epoch 40 is 0.00000\n",
      "Error at epoch 50 is 0.50000\n",
      "Error at epoch 60 is 0.00000\n",
      "Error at epoch 70 is 0.00000\n",
      "Error at epoch 80 is 0.50000\n",
      "Error at epoch 90 is 0.00000\n",
      "Confusion Matrix (row=Actual, col=Predicted)\n",
      "[[10  0]\n",
      " [11  0]]\n",
      "Actual :  [0 0 0 0 0 0 0 0 0 0 1 1 1 1 1 1 1 1 1 1 1]\n",
      "Predicted : [0 0 0 0 0 0 0 0 0 0 0 0 0 0 0 0 0 0 0 0 0]\n",
      "Accuracy : 47.62%\n",
      "\n",
      "Set Accuracy :  [47.61904761904761, 47.61904761904761, 47.61904761904761]\n",
      "Mean Accuracy : 47.619%\n",
      "================================ Fold:3 ====================================\n",
      "\n",
      "Error at epoch 0 is 0.50000\n",
      "Error at epoch 10 is 0.00000\n",
      "Error at epoch 20 is 0.00000\n",
      "Error at epoch 30 is 0.00000\n",
      "Error at epoch 40 is 0.00000\n",
      "Error at epoch 50 is 0.50000\n",
      "Error at epoch 60 is 0.00000\n",
      "Error at epoch 70 is 0.00000\n",
      "Error at epoch 80 is 0.50000\n",
      "Error at epoch 90 is 0.00000\n",
      "Confusion Matrix (row=Actual, col=Predicted)\n",
      "[[10  0]\n",
      " [11  0]]\n",
      "Actual :  [0 0 0 0 0 0 0 0 0 0 1 1 1 1 1 1 1 1 1 1 1]\n",
      "Predicted : [0 0 0 0 0 0 0 0 0 0 0 0 0 0 0 0 0 0 0 0 0]\n",
      "Accuracy : 47.62%\n",
      "\n",
      "Set Accuracy :  [47.61904761904761, 47.61904761904761, 47.61904761904761, 47.61904761904761]\n",
      "Mean Accuracy : 47.619%\n",
      "================================ Fold:4 ====================================\n",
      "\n",
      "Error at epoch 0 is 0.50000\n",
      "Error at epoch 10 is 0.00000\n",
      "Error at epoch 20 is 0.00000\n",
      "Error at epoch 30 is 0.00000\n",
      "Error at epoch 40 is 0.00000\n",
      "Error at epoch 50 is 0.50000\n",
      "Error at epoch 60 is 0.00000\n",
      "Error at epoch 70 is 0.00000\n",
      "Error at epoch 80 is 0.50000\n",
      "Error at epoch 90 is 0.00000\n",
      "Confusion Matrix (row=Actual, col=Predicted)\n",
      "[[10  0]\n",
      " [11  0]]\n",
      "Actual :  [0 0 0 0 0 0 0 0 0 0 1 1 1 1 1 1 1 1 1 1 1]\n",
      "Predicted : [0 0 0 0 0 0 0 0 0 0 0 0 0 0 0 0 0 0 0 0 0]\n",
      "Accuracy : 47.62%\n",
      "\n",
      "Set Accuracy :  [47.61904761904761, 47.61904761904761, 47.61904761904761, 47.61904761904761, 47.61904761904761]\n",
      "Mean Accuracy : 47.619%\n",
      "================================ Fold:5 ====================================\n",
      "\n",
      "Error at epoch 0 is 0.50000\n",
      "Error at epoch 10 is 0.00000\n",
      "Error at epoch 20 is 0.00000\n",
      "Error at epoch 30 is 0.00000\n",
      "Error at epoch 40 is 0.00000\n",
      "Error at epoch 50 is 0.50000\n",
      "Error at epoch 60 is 0.00000\n",
      "Error at epoch 70 is 0.00000\n",
      "Error at epoch 80 is 0.50000\n",
      "Error at epoch 90 is 0.00000\n",
      "Confusion Matrix (row=Actual, col=Predicted)\n",
      "[[10  0]\n",
      " [11  0]]\n",
      "Actual :  [0 0 0 0 0 0 0 0 0 0 1 1 1 1 1 1 1 1 1 1 1]\n",
      "Predicted : [0 0 0 0 0 0 0 0 0 0 0 0 0 0 0 0 0 0 0 0 0]\n",
      "Accuracy : 47.62%\n",
      "\n",
      "Set Accuracy :  [47.61904761904761, 47.61904761904761, 47.61904761904761, 47.61904761904761, 47.61904761904761, 47.61904761904761]\n",
      "Mean Accuracy : 47.619%\n",
      "================================ Fold:6 ====================================\n",
      "\n",
      "Error at epoch 0 is 0.50000\n",
      "Error at epoch 10 is 0.00000\n",
      "Error at epoch 20 is 0.00000\n",
      "Error at epoch 30 is 0.00000\n",
      "Error at epoch 40 is 0.00000\n",
      "Error at epoch 50 is 0.50000\n",
      "Error at epoch 60 is 0.00000\n",
      "Error at epoch 70 is 0.00000\n",
      "Error at epoch 80 is 0.50000\n",
      "Error at epoch 90 is 0.00000\n",
      "Confusion Matrix (row=Actual, col=Predicted)\n",
      "[[10  0]\n",
      " [11  0]]\n",
      "Actual :  [0 0 0 0 0 0 0 0 0 0 1 1 1 1 1 1 1 1 1 1 1]\n",
      "Predicted : [0 0 0 0 0 0 0 0 0 0 0 0 0 0 0 0 0 0 0 0 0]\n",
      "Accuracy : 47.62%\n",
      "\n",
      "Set Accuracy :  [47.61904761904761, 47.61904761904761, 47.61904761904761, 47.61904761904761, 47.61904761904761, 47.61904761904761, 47.61904761904761]\n",
      "Mean Accuracy : 47.619%\n",
      "================================ Fold:7 ====================================\n",
      "\n",
      "Error at epoch 0 is 0.50000\n",
      "Error at epoch 10 is 0.00000\n",
      "Error at epoch 20 is 0.00000\n",
      "Error at epoch 30 is 0.00000\n",
      "Error at epoch 40 is 0.00000\n",
      "Error at epoch 50 is 0.50000\n",
      "Error at epoch 60 is 0.00000\n",
      "Error at epoch 70 is 0.00000\n",
      "Error at epoch 80 is 0.50000\n",
      "Error at epoch 90 is 0.00000\n",
      "Confusion Matrix (row=Actual, col=Predicted)\n",
      "[[ 9  0]\n",
      " [12  0]]\n",
      "Actual :  [0 0 0 0 0 0 0 0 0 1 1 1 1 1 1 1 1 1 1 1 1]\n",
      "Predicted : [0 0 0 0 0 0 0 0 0 0 0 0 0 0 0 0 0 0 0 0 0]\n",
      "Accuracy : 42.86%\n",
      "\n",
      "Set Accuracy :  [47.61904761904761, 47.61904761904761, 47.61904761904761, 47.61904761904761, 47.61904761904761, 47.61904761904761, 47.61904761904761, 42.857142857142854]\n",
      "Mean Accuracy : 47.024%\n",
      "================================ Fold:8 ====================================\n",
      "\n",
      "Error at epoch 0 is 0.50000\n",
      "Error at epoch 10 is 0.00000\n",
      "Error at epoch 20 is 0.00000\n",
      "Error at epoch 30 is 0.00000\n",
      "Error at epoch 40 is 0.00000\n",
      "Error at epoch 50 is 0.50000\n",
      "Error at epoch 60 is 0.00000\n",
      "Error at epoch 70 is 0.00000\n",
      "Error at epoch 80 is 0.50000\n",
      "Error at epoch 90 is 0.00000\n",
      "Confusion Matrix (row=Actual, col=Predicted)\n",
      "[[10  0]\n",
      " [11  0]]\n",
      "Actual :  [0 0 0 0 0 0 0 0 0 1 1 1 1 1 1 1 1 1 1 1 0]\n",
      "Predicted : [0 0 0 0 0 0 0 0 0 0 0 0 0 0 0 0 0 0 0 0 0]\n",
      "Accuracy : 47.62%\n",
      "\n",
      "Set Accuracy :  [47.61904761904761, 47.61904761904761, 47.61904761904761, 47.61904761904761, 47.61904761904761, 47.61904761904761, 47.61904761904761, 42.857142857142854, 47.61904761904761]\n",
      "Mean Accuracy : 47.090%\n",
      "================================ Fold:9 ====================================\n",
      "\n",
      "Error at epoch 0 is 0.50000\n",
      "Error at epoch 10 is 0.00000\n",
      "Error at epoch 20 is 0.00000\n",
      "Error at epoch 30 is 0.00000\n",
      "Error at epoch 40 is 0.00000\n",
      "Error at epoch 50 is 0.50000\n",
      "Error at epoch 60 is 0.00000\n",
      "Error at epoch 70 is 0.00000\n",
      "Error at epoch 80 is 0.49296\n",
      "Error at epoch 90 is 0.00000\n",
      "Confusion Matrix (row=Actual, col=Predicted)\n",
      "[[10  0]\n",
      " [11  0]]\n",
      "Actual :  [0 0 0 0 0 0 0 0 0 1 1 1 1 1 1 1 1 1 1 1 0]\n",
      "Predicted : [0 0 0 0 0 0 0 0 0 0 0 0 0 0 0 0 0 0 0 0 0]\n",
      "Accuracy : 47.62%\n",
      "\n",
      "Set Accuracy :  [47.61904761904761, 47.61904761904761, 47.61904761904761, 47.61904761904761, 47.61904761904761, 47.61904761904761, 47.61904761904761, 42.857142857142854, 47.61904761904761, 47.61904761904761]\n",
      "Mean Accuracy : 47.143%\n",
      "================================ Fold:10 ====================================\n",
      "\n"
     ]
    }
   ],
   "source": [
    "Evaluate_multifold(Input_array,Target_array, 10)"
   ]
  },
  {
   "cell_type": "markdown",
   "id": "595f22b3-2f47-42de-b37e-353686c7ea90",
   "metadata": {},
   "source": [
    "### "
   ]
  }
 ],
 "metadata": {
  "kernelspec": {
   "display_name": "Python 3 (ipykernel)",
   "language": "python",
   "name": "python3"
  },
  "language_info": {
   "codemirror_mode": {
    "name": "ipython",
    "version": 3
   },
   "file_extension": ".py",
   "mimetype": "text/x-python",
   "name": "python",
   "nbconvert_exporter": "python",
   "pygments_lexer": "ipython3",
   "version": "3.8.5"
  }
 },
 "nbformat": 4,
 "nbformat_minor": 5
}
